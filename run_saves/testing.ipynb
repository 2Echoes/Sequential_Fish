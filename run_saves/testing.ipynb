{
 "cells": [
  {
   "cell_type": "code",
   "execution_count": 20,
   "metadata": {},
   "outputs": [
    {
     "data": {
      "application/vnd.microsoft.datawrangler.viewer.v0+json": {
       "columns": [
        {
         "name": "index",
         "rawType": "int64",
         "type": "integer"
        },
        {
         "name": "run_id",
         "rawType": "int64",
         "type": "integer"
        },
        {
         "name": "creation_date",
         "rawType": "string",
         "type": "string"
        },
        {
         "name": "last_modification_date",
         "rawType": "string",
         "type": "string"
        },
        {
         "name": "pipeline_version",
         "rawType": "string",
         "type": "string"
        },
        {
         "name": "RUN_PATH",
         "rawType": "string",
         "type": "string"
        },
        {
         "name": "VOXEL_SIZE",
         "rawType": "object",
         "type": "unknown"
        },
        {
         "name": "WASHOUT_KEY_WORD",
         "rawType": "string",
         "type": "string"
        },
        {
         "name": "HAS_BEAD_CHANNEL",
         "rawType": "bool",
         "type": "boolean"
        },
        {
         "name": "MAP_FILENAME",
         "rawType": "string",
         "type": "string"
        },
        {
         "name": "CYCLE_KEY",
         "rawType": "string",
         "type": "string"
        },
        {
         "name": "GENES_NAMES_KEY",
         "rawType": "object",
         "type": "unknown"
        },
        {
         "name": "CYCLE_REGEX",
         "rawType": "string",
         "type": "string"
        },
        {
         "name": "PLOT_VISUALS",
         "rawType": "bool",
         "type": "boolean"
        },
        {
         "name": "DETECTION_MAX_WORKERS",
         "rawType": "float64",
         "type": "float"
        },
        {
         "name": "SPOT_SIZE",
         "rawType": "object",
         "type": "unknown"
        },
        {
         "name": "ALPHA",
         "rawType": "float64",
         "type": "float"
        },
        {
         "name": "BETA",
         "rawType": "float64",
         "type": "float"
        },
        {
         "name": "GAMMA",
         "rawType": "float64",
         "type": "float"
        },
        {
         "name": "CLUSTER_SIZE",
         "rawType": "float64",
         "type": "float"
        },
        {
         "name": "MIN_SPOT_PER_CLUSTER",
         "rawType": "float64",
         "type": "float"
        },
        {
         "name": "ARTIFACT_RADIUS",
         "rawType": "float64",
         "type": "float"
        },
        {
         "name": "DETECTION_SLICE_TO_REMOVE",
         "rawType": "object",
         "type": "unknown"
        },
        {
         "name": "SAVE_PATH",
         "rawType": "string",
         "type": "string"
        },
        {
         "name": "BEAD_SIZE",
         "rawType": "object",
         "type": "unknown"
        },
        {
         "name": "DRIFT_SLICE_TO_REMOVE",
         "rawType": "object",
         "type": "unknown"
        },
        {
         "name": "DO_HIGHPASS_FILTER",
         "rawType": "bool",
         "type": "boolean"
        },
        {
         "name": "COLOC_DISTANCE",
         "rawType": "float64",
         "type": "float"
        },
        {
         "name": "QUANTIF_MAX_WORKERS",
         "rawType": "float64",
         "type": "float"
        },
        {
         "name": "COLOC_POPULATION",
         "rawType": "object",
         "type": "unknown"
        },
        {
         "name": "NUCLEUS_FOLDER",
         "rawType": "string",
         "type": "string"
        },
        {
         "name": "FISH_FOLDER",
         "rawType": "string",
         "type": "string"
        },
        {
         "name": "NUCLEUS_MODEL",
         "rawType": "string",
         "type": "string"
        },
        {
         "name": "CYTOPLASM_MODEL",
         "rawType": "string",
         "type": "string"
        },
        {
         "name": "NUCLEUS_SIZE",
         "rawType": "float64",
         "type": "float"
        },
        {
         "name": "CYTOPLASM_SIZE",
         "rawType": "float64",
         "type": "float"
        },
        {
         "name": "input",
         "rawType": "bool",
         "type": "boolean"
        },
        {
         "name": "detection",
         "rawType": "bool",
         "type": "boolean"
        },
        {
         "name": "segmentation",
         "rawType": "bool",
         "type": "boolean"
        },
        {
         "name": "drift",
         "rawType": "bool",
         "type": "boolean"
        },
        {
         "name": "alignement",
         "rawType": "bool",
         "type": "boolean"
        },
        {
         "name": "washout",
         "rawType": "bool",
         "type": "boolean"
        },
        {
         "name": "quantification",
         "rawType": "bool",
         "type": "boolean"
        },
        {
         "name": "run_name",
         "rawType": "string",
         "type": "string"
        }
       ],
       "conversionMethod": "pd.DataFrame",
       "ref": "2780c41a-f0a8-4e38-8eb7-23db664ed2da",
       "rows": [
        [
         "0",
         "0",
         "20250320 18-30-14",
         "20250320 18-30-17",
         "0.1",
         "/mnt/ssd/SSD_floricslimani/Fish_seq/Davide/2024-08-07 - SeqFISH_Run6 - HeLa_R2TP1-2/",
         "[200  97  97]",
         "Washout",
         "True",
         "HeLa-R2TP_Run6.xlsx",
         "Cycle n.",
         "['Gene1 (Ch1 - Cy5)' 'Gene2 (Ch2 - Cy3)']",
         "img(\\d+)_000_000000_0000000000.ome.tif",
         "True",
         "4.0",
         "[300 140 140]",
         "0.5",
         "1.0",
         "2.0",
         "300.0",
         "3.0",
         "1400.0",
         "[ 5. nan]",
         "/mnt/ssd/SSD_floricslimani/Fish_seq/Davide/2024-08-07 - SeqFISH_Run6 - HeLa_R2TP1-2//visuals/",
         "[200 200 200]",
         "[5 5]",
         "False",
         "200.0",
         "10.0",
         "['all' 'free' 'clustered']",
         "DAPI_Z-stacks",
         "FISH_Z-stacks",
         "nuclei",
         "cyto3",
         "140.0",
         "200.0",
         "False",
         "False",
         "False",
         "False",
         "True",
         "False",
         "False",
         "2024-08-07 - SeqFISH_Run6 - HeLa_R2TP1-2"
        ],
        [
         "1",
         "1",
         "",
         "",
         "",
         "/mnt/ssd/SSD_floricslimani/Fish_seq/Davide/2024-09-03 - SeqFISH_Run8 - HeLa_POLR2",
         "[]",
         "",
         "False",
         "",
         "",
         "[]",
         "",
         "False",
         null,
         "[]",
         null,
         null,
         null,
         null,
         null,
         null,
         "[]",
         "",
         "[]",
         "[]",
         "False",
         null,
         null,
         "[]",
         "",
         "",
         "",
         "",
         null,
         null,
         "False",
         "False",
         "False",
         "False",
         "False",
         "False",
         "False",
         "2024-09-03 - SeqFISH_Run8 - HeLa_POLR2"
        ],
        [
         "2",
         "2",
         "",
         "",
         "",
         "/mnt/ssd/SSD_floricslimani/Fish_seq/Davide/2024-10-09 - SeqFISH_Run10 - HeLa-Puro_POLR2",
         "[]",
         "",
         "False",
         "",
         "",
         "[]",
         "",
         "False",
         null,
         "[]",
         null,
         null,
         null,
         null,
         null,
         null,
         "[]",
         "",
         "[]",
         "[]",
         "False",
         null,
         null,
         "[]",
         "",
         "",
         "",
         "",
         null,
         null,
         "False",
         "False",
         "False",
         "False",
         "False",
         "False",
         "False",
         "2024-10-09 - SeqFISH_Run10 - HeLa-Puro_POLR2"
        ]
       ],
       "shape": {
        "columns": 43,
        "rows": 3
       }
      },
      "text/html": [
       "<div>\n",
       "<style scoped>\n",
       "    .dataframe tbody tr th:only-of-type {\n",
       "        vertical-align: middle;\n",
       "    }\n",
       "\n",
       "    .dataframe tbody tr th {\n",
       "        vertical-align: top;\n",
       "    }\n",
       "\n",
       "    .dataframe thead th {\n",
       "        text-align: right;\n",
       "    }\n",
       "</style>\n",
       "<table border=\"1\" class=\"dataframe\">\n",
       "  <thead>\n",
       "    <tr style=\"text-align: right;\">\n",
       "      <th></th>\n",
       "      <th>run_id</th>\n",
       "      <th>creation_date</th>\n",
       "      <th>last_modification_date</th>\n",
       "      <th>pipeline_version</th>\n",
       "      <th>RUN_PATH</th>\n",
       "      <th>VOXEL_SIZE</th>\n",
       "      <th>WASHOUT_KEY_WORD</th>\n",
       "      <th>HAS_BEAD_CHANNEL</th>\n",
       "      <th>MAP_FILENAME</th>\n",
       "      <th>CYCLE_KEY</th>\n",
       "      <th>...</th>\n",
       "      <th>NUCLEUS_SIZE</th>\n",
       "      <th>CYTOPLASM_SIZE</th>\n",
       "      <th>input</th>\n",
       "      <th>detection</th>\n",
       "      <th>segmentation</th>\n",
       "      <th>drift</th>\n",
       "      <th>alignement</th>\n",
       "      <th>washout</th>\n",
       "      <th>quantification</th>\n",
       "      <th>run_name</th>\n",
       "    </tr>\n",
       "  </thead>\n",
       "  <tbody>\n",
       "    <tr>\n",
       "      <th>0</th>\n",
       "      <td>0</td>\n",
       "      <td>20250320 18-30-14</td>\n",
       "      <td>20250320 18-30-17</td>\n",
       "      <td>0.1</td>\n",
       "      <td>/mnt/ssd/SSD_floricslimani/Fish_seq/Davide/202...</td>\n",
       "      <td>[200, 97, 97]</td>\n",
       "      <td>Washout</td>\n",
       "      <td>True</td>\n",
       "      <td>HeLa-R2TP_Run6.xlsx</td>\n",
       "      <td>Cycle n.</td>\n",
       "      <td>...</td>\n",
       "      <td>140.0</td>\n",
       "      <td>200.0</td>\n",
       "      <td>False</td>\n",
       "      <td>False</td>\n",
       "      <td>False</td>\n",
       "      <td>False</td>\n",
       "      <td>True</td>\n",
       "      <td>False</td>\n",
       "      <td>False</td>\n",
       "      <td>2024-08-07 - SeqFISH_Run6 - HeLa_R2TP1-2</td>\n",
       "    </tr>\n",
       "    <tr>\n",
       "      <th>1</th>\n",
       "      <td>1</td>\n",
       "      <td></td>\n",
       "      <td></td>\n",
       "      <td></td>\n",
       "      <td>/mnt/ssd/SSD_floricslimani/Fish_seq/Davide/202...</td>\n",
       "      <td>[]</td>\n",
       "      <td></td>\n",
       "      <td>False</td>\n",
       "      <td></td>\n",
       "      <td></td>\n",
       "      <td>...</td>\n",
       "      <td>NaN</td>\n",
       "      <td>NaN</td>\n",
       "      <td>False</td>\n",
       "      <td>False</td>\n",
       "      <td>False</td>\n",
       "      <td>False</td>\n",
       "      <td>False</td>\n",
       "      <td>False</td>\n",
       "      <td>False</td>\n",
       "      <td>2024-09-03 - SeqFISH_Run8 - HeLa_POLR2</td>\n",
       "    </tr>\n",
       "    <tr>\n",
       "      <th>2</th>\n",
       "      <td>2</td>\n",
       "      <td></td>\n",
       "      <td></td>\n",
       "      <td></td>\n",
       "      <td>/mnt/ssd/SSD_floricslimani/Fish_seq/Davide/202...</td>\n",
       "      <td>[]</td>\n",
       "      <td></td>\n",
       "      <td>False</td>\n",
       "      <td></td>\n",
       "      <td></td>\n",
       "      <td>...</td>\n",
       "      <td>NaN</td>\n",
       "      <td>NaN</td>\n",
       "      <td>False</td>\n",
       "      <td>False</td>\n",
       "      <td>False</td>\n",
       "      <td>False</td>\n",
       "      <td>False</td>\n",
       "      <td>False</td>\n",
       "      <td>False</td>\n",
       "      <td>2024-10-09 - SeqFISH_Run10 - HeLa-Puro_POLR2</td>\n",
       "    </tr>\n",
       "  </tbody>\n",
       "</table>\n",
       "<p>3 rows × 43 columns</p>\n",
       "</div>"
      ],
      "text/plain": [
       "   run_id      creation_date last_modification_date pipeline_version  \\\n",
       "0       0  20250320 18-30-14      20250320 18-30-17              0.1   \n",
       "1       1                                                              \n",
       "2       2                                                              \n",
       "\n",
       "                                            RUN_PATH     VOXEL_SIZE  \\\n",
       "0  /mnt/ssd/SSD_floricslimani/Fish_seq/Davide/202...  [200, 97, 97]   \n",
       "1  /mnt/ssd/SSD_floricslimani/Fish_seq/Davide/202...             []   \n",
       "2  /mnt/ssd/SSD_floricslimani/Fish_seq/Davide/202...             []   \n",
       "\n",
       "  WASHOUT_KEY_WORD  HAS_BEAD_CHANNEL         MAP_FILENAME CYCLE_KEY  ...  \\\n",
       "0          Washout              True  HeLa-R2TP_Run6.xlsx  Cycle n.  ...   \n",
       "1                              False                                 ...   \n",
       "2                              False                                 ...   \n",
       "\n",
       "  NUCLEUS_SIZE CYTOPLASM_SIZE  input  detection segmentation  drift  \\\n",
       "0        140.0          200.0  False      False        False  False   \n",
       "1          NaN            NaN  False      False        False  False   \n",
       "2          NaN            NaN  False      False        False  False   \n",
       "\n",
       "   alignement  washout  quantification  \\\n",
       "0        True    False           False   \n",
       "1       False    False           False   \n",
       "2       False    False           False   \n",
       "\n",
       "                                       run_name  \n",
       "0      2024-08-07 - SeqFISH_Run6 - HeLa_R2TP1-2  \n",
       "1        2024-09-03 - SeqFISH_Run8 - HeLa_POLR2  \n",
       "2  2024-10-09 - SeqFISH_Run10 - HeLa-Puro_POLR2  \n",
       "\n",
       "[3 rows x 43 columns]"
      ]
     },
     "execution_count": 20,
     "metadata": {},
     "output_type": "execute_result"
    }
   ],
   "source": [
    "from Sequential_Fish.run_saves import get_run_cache, check_run_dataframe, get_parameter\n",
    "import pandas as pd\n",
    "\n",
    "run_dataframe = get_run_cache()\n",
    "run_dataframe"
   ]
  },
  {
   "cell_type": "code",
   "execution_count": 5,
   "metadata": {},
   "outputs": [
    {
     "name": "stdout",
     "output_type": "stream",
     "text": [
      "RUN_PATH : str\n",
      "VOXEL_SIZE : tuple\n",
      "WASHOUT_KEY_WORD : str\n",
      "HAS_BEAD_CHANNEL : bool\n",
      "MAP_FILENAME : str\n",
      "CYCLE_KEY : str\n",
      "GENES_NAMES_KEY : list\n",
      "cycle_regex : str\n",
      "PLOT_VISUALS : bool\n",
      "detection_MAX_WORKERS : int\n",
      "SPOT_SIZE : tuple\n",
      "ALPHA : float\n",
      "BETA : int\n",
      "GAMMA : int\n",
      "CLUSTER_SIZE : int\n",
      "MIN_SPOT_PER_CLUSTER : int\n",
      "ARTIFACT_RADIUS : int\n",
      "DETECTION_SLICE_TO_REMOVE : list\n",
      "SAVE_PATH : str\n",
      "BEAD_SIZE : tuple\n",
      "DRIFT_SLICE_TO_REMOVE : list\n",
      "DO_HIGHPASS_FILTER : bool\n",
      "COLOC_DISTANCE : int\n",
      "quantif_MAX_WORKERS : int\n",
      "COLOC_POPULATION : tuple\n",
      "nucleus_folder : str\n",
      "fish_folder : str\n",
      "nucleus_model : str\n",
      "cytoplasm_model : str\n",
      "nucleus_size : int\n",
      "cytoplasm_size : int\n"
     ]
    },
    {
     "data": {
      "application/vnd.microsoft.datawrangler.viewer.v0+json": {
       "columns": [
        {
         "name": "index",
         "rawType": "int64",
         "type": "integer"
        },
        {
         "name": "run_id",
         "rawType": "object",
         "type": "unknown"
        },
        {
         "name": "creation_date",
         "rawType": "object",
         "type": "unknown"
        },
        {
         "name": "last_modification_date",
         "rawType": "object",
         "type": "unknown"
        },
        {
         "name": "pipeline_version",
         "rawType": "object",
         "type": "unknown"
        },
        {
         "name": "RUN_PATH",
         "rawType": "object",
         "type": "unknown"
        },
        {
         "name": "VOXEL_SIZE",
         "rawType": "object",
         "type": "unknown"
        },
        {
         "name": "WASHOUT_KEY_WORD",
         "rawType": "object",
         "type": "unknown"
        },
        {
         "name": "HAS_BEAD_CHANNEL",
         "rawType": "bool",
         "type": "boolean"
        },
        {
         "name": "MAP_FILENAME",
         "rawType": "object",
         "type": "unknown"
        },
        {
         "name": "CYCLE_KEY",
         "rawType": "object",
         "type": "unknown"
        },
        {
         "name": "GENES_NAMES_KEY",
         "rawType": "object",
         "type": "unknown"
        },
        {
         "name": "CYCLE_REGEX",
         "rawType": "object",
         "type": "unknown"
        },
        {
         "name": "PLOT_VISUALS",
         "rawType": "bool",
         "type": "boolean"
        },
        {
         "name": "DETECTION_MAX_WORKERS",
         "rawType": "int64",
         "type": "integer"
        },
        {
         "name": "SPOT_SIZE",
         "rawType": "object",
         "type": "unknown"
        },
        {
         "name": "ALPHA",
         "rawType": "float64",
         "type": "float"
        },
        {
         "name": "BETA",
         "rawType": "int64",
         "type": "integer"
        },
        {
         "name": "GAMMA",
         "rawType": "int64",
         "type": "integer"
        },
        {
         "name": "CLUSTER_SIZE",
         "rawType": "int64",
         "type": "integer"
        },
        {
         "name": "MIN_SPOT_PER_CLUSTER",
         "rawType": "int64",
         "type": "integer"
        },
        {
         "name": "ARTIFACT_RADIUS",
         "rawType": "int64",
         "type": "integer"
        },
        {
         "name": "DETECTION_SLICE_TO_REMOVE",
         "rawType": "object",
         "type": "unknown"
        },
        {
         "name": "SAVE_PATH",
         "rawType": "object",
         "type": "unknown"
        },
        {
         "name": "BEAD_SIZE",
         "rawType": "object",
         "type": "unknown"
        },
        {
         "name": "DRIFT_SLICE_TO_REMOVE",
         "rawType": "object",
         "type": "unknown"
        },
        {
         "name": "DO_HIGHPASS_FILTER",
         "rawType": "bool",
         "type": "boolean"
        },
        {
         "name": "COLOC_DISTANCE",
         "rawType": "int64",
         "type": "integer"
        },
        {
         "name": "QUANTIF_MAX_WORKERS",
         "rawType": "int64",
         "type": "integer"
        },
        {
         "name": "COLOC_POPULATION",
         "rawType": "object",
         "type": "unknown"
        },
        {
         "name": "NUCLEUS_FOLDER",
         "rawType": "object",
         "type": "unknown"
        },
        {
         "name": "FISH_FOLDER",
         "rawType": "object",
         "type": "unknown"
        },
        {
         "name": "NUCLEUS_MODEL",
         "rawType": "object",
         "type": "unknown"
        },
        {
         "name": "CYTOPLASM_MODEL",
         "rawType": "object",
         "type": "unknown"
        },
        {
         "name": "NUCLEUS_SIZE",
         "rawType": "int64",
         "type": "integer"
        },
        {
         "name": "CYTOPLASM_SIZE",
         "rawType": "int64",
         "type": "integer"
        },
        {
         "name": "input",
         "rawType": "bool",
         "type": "boolean"
        },
        {
         "name": "detection",
         "rawType": "bool",
         "type": "boolean"
        },
        {
         "name": "segmentation",
         "rawType": "bool",
         "type": "boolean"
        },
        {
         "name": "drift",
         "rawType": "bool",
         "type": "boolean"
        },
        {
         "name": "alignement",
         "rawType": "bool",
         "type": "boolean"
        },
        {
         "name": "washout",
         "rawType": "bool",
         "type": "boolean"
        },
        {
         "name": "quantification",
         "rawType": "bool",
         "type": "boolean"
        }
       ],
       "conversionMethod": "pd.DataFrame",
       "ref": "275a5746-287d-4734-be0d-04c9665b5c04",
       "rows": [],
       "shape": {
        "columns": 42,
        "rows": 0
       }
      },
      "text/html": [
       "<div>\n",
       "<style scoped>\n",
       "    .dataframe tbody tr th:only-of-type {\n",
       "        vertical-align: middle;\n",
       "    }\n",
       "\n",
       "    .dataframe tbody tr th {\n",
       "        vertical-align: top;\n",
       "    }\n",
       "\n",
       "    .dataframe thead th {\n",
       "        text-align: right;\n",
       "    }\n",
       "</style>\n",
       "<table border=\"1\" class=\"dataframe\">\n",
       "  <thead>\n",
       "    <tr style=\"text-align: right;\">\n",
       "      <th></th>\n",
       "      <th>run_id</th>\n",
       "      <th>creation_date</th>\n",
       "      <th>last_modification_date</th>\n",
       "      <th>pipeline_version</th>\n",
       "      <th>RUN_PATH</th>\n",
       "      <th>VOXEL_SIZE</th>\n",
       "      <th>WASHOUT_KEY_WORD</th>\n",
       "      <th>HAS_BEAD_CHANNEL</th>\n",
       "      <th>MAP_FILENAME</th>\n",
       "      <th>CYCLE_KEY</th>\n",
       "      <th>...</th>\n",
       "      <th>CYTOPLASM_MODEL</th>\n",
       "      <th>NUCLEUS_SIZE</th>\n",
       "      <th>CYTOPLASM_SIZE</th>\n",
       "      <th>input</th>\n",
       "      <th>detection</th>\n",
       "      <th>segmentation</th>\n",
       "      <th>drift</th>\n",
       "      <th>alignement</th>\n",
       "      <th>washout</th>\n",
       "      <th>quantification</th>\n",
       "    </tr>\n",
       "  </thead>\n",
       "  <tbody>\n",
       "  </tbody>\n",
       "</table>\n",
       "<p>0 rows × 42 columns</p>\n",
       "</div>"
      ],
      "text/plain": [
       "Empty DataFrame\n",
       "Columns: [run_id, creation_date, last_modification_date, pipeline_version, RUN_PATH, VOXEL_SIZE, WASHOUT_KEY_WORD, HAS_BEAD_CHANNEL, MAP_FILENAME, CYCLE_KEY, GENES_NAMES_KEY, CYCLE_REGEX, PLOT_VISUALS, DETECTION_MAX_WORKERS, SPOT_SIZE, ALPHA, BETA, GAMMA, CLUSTER_SIZE, MIN_SPOT_PER_CLUSTER, ARTIFACT_RADIUS, DETECTION_SLICE_TO_REMOVE, SAVE_PATH, BEAD_SIZE, DRIFT_SLICE_TO_REMOVE, DO_HIGHPASS_FILTER, COLOC_DISTANCE, QUANTIF_MAX_WORKERS, COLOC_POPULATION, NUCLEUS_FOLDER, FISH_FOLDER, NUCLEUS_MODEL, CYTOPLASM_MODEL, NUCLEUS_SIZE, CYTOPLASM_SIZE, input, detection, segmentation, drift, alignement, washout, quantification]\n",
       "Index: []\n",
       "\n",
       "[0 rows x 42 columns]"
      ]
     },
     "execution_count": 5,
     "metadata": {},
     "output_type": "execute_result"
    }
   ],
   "source": [
    "cleaned_df = check_run_dataframe(run_dataframe)\n",
    "\n",
    "cleaned_df"
   ]
  },
  {
   "cell_type": "code",
   "execution_count": 6,
   "metadata": {},
   "outputs": [
    {
     "ename": "KeyError",
     "evalue": "None",
     "output_type": "error",
     "traceback": [
      "\u001b[0;31m---------------------------------------------------------------------------\u001b[0m",
      "\u001b[0;31mKeyError\u001b[0m                                  Traceback (most recent call last)",
      "Cell \u001b[0;32mIn[6], line 2\u001b[0m\n\u001b[1;32m      1\u001b[0m RUN_PATH \u001b[38;5;241m=\u001b[39m \u001b[38;5;124m\"\u001b[39m\u001b[38;5;124m/mnt/ssd/SSD_floricslimani/Fish_seq/Davide/2024-10-09 - SeqFISH_Run10 - HeLa-Puro_POLR2\u001b[39m\u001b[38;5;124m\"\u001b[39m\n\u001b[0;32m----> 2\u001b[0m voxel_size \u001b[38;5;241m=\u001b[39m \u001b[43mget_parameter\u001b[49m\u001b[43m(\u001b[49m\u001b[43mcleaned_df\u001b[49m\u001b[43m,\u001b[49m\u001b[43m \u001b[49m\u001b[43mRUN_PATH\u001b[49m\u001b[43m,\u001b[49m\u001b[43m \u001b[49m\u001b[38;5;124;43m'\u001b[39;49m\u001b[38;5;124;43mvoxel_size\u001b[39;49m\u001b[38;5;124;43m'\u001b[39;49m\u001b[43m)\u001b[49m\n\u001b[1;32m      3\u001b[0m voxel_size\n",
      "File \u001b[0;32m~/miniconda3/envs/dev/lib/python3.8/site-packages/Sequential_Fish/run_saves/dataframe.py:175\u001b[0m, in \u001b[0;36mget_parameter\u001b[0;34m(run_dataframe, run_path, parameter)\u001b[0m\n\u001b[1;32m    168\u001b[0m \u001b[38;5;28;01mdef\u001b[39;00m\u001b[38;5;250m \u001b[39m\u001b[38;5;21mget_parameter\u001b[39m(\n\u001b[1;32m    169\u001b[0m     run_dataframe : pd\u001b[38;5;241m.\u001b[39mDataFrame,\n\u001b[1;32m    170\u001b[0m     run_path : \u001b[38;5;28mstr\u001b[39m,\n\u001b[1;32m    171\u001b[0m     parameter : \u001b[38;5;28mstr\u001b[39m\n\u001b[1;32m    172\u001b[0m ) :\n\u001b[1;32m    173\u001b[0m     index \u001b[38;5;241m=\u001b[39m _get_run_path_index(run_dataframe, run_path)\n\u001b[0;32m--> 175\u001b[0m     parameter \u001b[38;5;241m=\u001b[39m \u001b[43mrun_dataframe\u001b[49m\u001b[38;5;241;43m.\u001b[39;49m\u001b[43mat\u001b[49m\u001b[43m[\u001b[49m\u001b[43mindex\u001b[49m\u001b[43m,\u001b[49m\u001b[43m \u001b[49m\u001b[43mparameter\u001b[49m\u001b[38;5;241;43m.\u001b[39;49m\u001b[43mupper\u001b[49m\u001b[43m(\u001b[49m\u001b[43m)\u001b[49m\u001b[43m]\u001b[49m\n\u001b[1;32m    177\u001b[0m     \u001b[38;5;28;01mif\u001b[39;00m \u001b[38;5;28misinstance\u001b[39m(parameter, (\u001b[38;5;28mlist\u001b[39m, np\u001b[38;5;241m.\u001b[39mndarray)) :\n\u001b[1;32m    178\u001b[0m         parameter \u001b[38;5;241m=\u001b[39m \u001b[38;5;28mlist\u001b[39m(parameter)\n",
      "File \u001b[0;32m~/miniconda3/envs/dev/lib/python3.8/site-packages/pandas/core/indexing.py:2419\u001b[0m, in \u001b[0;36m_AtIndexer.__getitem__\u001b[0;34m(self, key)\u001b[0m\n\u001b[1;32m   2416\u001b[0m         \u001b[38;5;28;01mraise\u001b[39;00m \u001b[38;5;167;01mValueError\u001b[39;00m(\u001b[38;5;124m\"\u001b[39m\u001b[38;5;124mInvalid call for scalar access (getting)!\u001b[39m\u001b[38;5;124m\"\u001b[39m)\n\u001b[1;32m   2417\u001b[0m     \u001b[38;5;28;01mreturn\u001b[39;00m \u001b[38;5;28mself\u001b[39m\u001b[38;5;241m.\u001b[39mobj\u001b[38;5;241m.\u001b[39mloc[key]\n\u001b[0;32m-> 2419\u001b[0m \u001b[38;5;28;01mreturn\u001b[39;00m \u001b[38;5;28;43msuper\u001b[39;49m\u001b[43m(\u001b[49m\u001b[43m)\u001b[49m\u001b[38;5;241;43m.\u001b[39;49m\u001b[38;5;21;43m__getitem__\u001b[39;49m\u001b[43m(\u001b[49m\u001b[43mkey\u001b[49m\u001b[43m)\u001b[49m\n",
      "File \u001b[0;32m~/miniconda3/envs/dev/lib/python3.8/site-packages/pandas/core/indexing.py:2371\u001b[0m, in \u001b[0;36m_ScalarAccessIndexer.__getitem__\u001b[0;34m(self, key)\u001b[0m\n\u001b[1;32m   2368\u001b[0m         \u001b[38;5;28;01mraise\u001b[39;00m \u001b[38;5;167;01mValueError\u001b[39;00m(\u001b[38;5;124m\"\u001b[39m\u001b[38;5;124mInvalid call for scalar access (getting)!\u001b[39m\u001b[38;5;124m\"\u001b[39m)\n\u001b[1;32m   2370\u001b[0m key \u001b[38;5;241m=\u001b[39m \u001b[38;5;28mself\u001b[39m\u001b[38;5;241m.\u001b[39m_convert_key(key)\n\u001b[0;32m-> 2371\u001b[0m \u001b[38;5;28;01mreturn\u001b[39;00m \u001b[38;5;28;43mself\u001b[39;49m\u001b[38;5;241;43m.\u001b[39;49m\u001b[43mobj\u001b[49m\u001b[38;5;241;43m.\u001b[39;49m\u001b[43m_get_value\u001b[49m\u001b[43m(\u001b[49m\u001b[38;5;241;43m*\u001b[39;49m\u001b[43mkey\u001b[49m\u001b[43m,\u001b[49m\u001b[43m \u001b[49m\u001b[43mtakeable\u001b[49m\u001b[38;5;241;43m=\u001b[39;49m\u001b[38;5;28;43mself\u001b[39;49m\u001b[38;5;241;43m.\u001b[39;49m\u001b[43m_takeable\u001b[49m\u001b[43m)\u001b[49m\n",
      "File \u001b[0;32m~/miniconda3/envs/dev/lib/python3.8/site-packages/pandas/core/frame.py:3877\u001b[0m, in \u001b[0;36mDataFrame._get_value\u001b[0;34m(self, index, col, takeable)\u001b[0m\n\u001b[1;32m   3871\u001b[0m engine \u001b[38;5;241m=\u001b[39m \u001b[38;5;28mself\u001b[39m\u001b[38;5;241m.\u001b[39mindex\u001b[38;5;241m.\u001b[39m_engine\n\u001b[1;32m   3873\u001b[0m \u001b[38;5;28;01mif\u001b[39;00m \u001b[38;5;129;01mnot\u001b[39;00m \u001b[38;5;28misinstance\u001b[39m(\u001b[38;5;28mself\u001b[39m\u001b[38;5;241m.\u001b[39mindex, MultiIndex):\n\u001b[1;32m   3874\u001b[0m     \u001b[38;5;66;03m# CategoricalIndex: Trying to use the engine fastpath may give incorrect\u001b[39;00m\n\u001b[1;32m   3875\u001b[0m     \u001b[38;5;66;03m#  results if our categories are integers that dont match our codes\u001b[39;00m\n\u001b[1;32m   3876\u001b[0m     \u001b[38;5;66;03m# IntervalIndex: IntervalTree has no get_loc\u001b[39;00m\n\u001b[0;32m-> 3877\u001b[0m     row \u001b[38;5;241m=\u001b[39m \u001b[38;5;28;43mself\u001b[39;49m\u001b[38;5;241;43m.\u001b[39;49m\u001b[43mindex\u001b[49m\u001b[38;5;241;43m.\u001b[39;49m\u001b[43mget_loc\u001b[49m\u001b[43m(\u001b[49m\u001b[43mindex\u001b[49m\u001b[43m)\u001b[49m\n\u001b[1;32m   3878\u001b[0m     \u001b[38;5;28;01mreturn\u001b[39;00m series\u001b[38;5;241m.\u001b[39m_values[row]\n\u001b[1;32m   3880\u001b[0m \u001b[38;5;66;03m# For MultiIndex going through engine effectively restricts us to\u001b[39;00m\n\u001b[1;32m   3881\u001b[0m \u001b[38;5;66;03m#  same-length tuples; see test_get_set_value_no_partial_indexing\u001b[39;00m\n",
      "File \u001b[0;32m~/miniconda3/envs/dev/lib/python3.8/site-packages/pandas/core/indexes/range.py:349\u001b[0m, in \u001b[0;36mRangeIndex.get_loc\u001b[0;34m(self, key)\u001b[0m\n\u001b[1;32m    347\u001b[0m         \u001b[38;5;28;01mraise\u001b[39;00m \u001b[38;5;167;01mKeyError\u001b[39;00m(key) \u001b[38;5;28;01mfrom\u001b[39;00m\u001b[38;5;250m \u001b[39m\u001b[38;5;21;01merr\u001b[39;00m\n\u001b[1;32m    348\u001b[0m \u001b[38;5;28;01mif\u001b[39;00m \u001b[38;5;28misinstance\u001b[39m(key, Hashable):\n\u001b[0;32m--> 349\u001b[0m     \u001b[38;5;28;01mraise\u001b[39;00m \u001b[38;5;167;01mKeyError\u001b[39;00m(key)\n\u001b[1;32m    350\u001b[0m \u001b[38;5;28mself\u001b[39m\u001b[38;5;241m.\u001b[39m_check_indexing_error(key)\n\u001b[1;32m    351\u001b[0m \u001b[38;5;28;01mraise\u001b[39;00m \u001b[38;5;167;01mKeyError\u001b[39;00m(key)\n",
      "\u001b[0;31mKeyError\u001b[0m: None"
     ]
    }
   ],
   "source": [
    "RUN_PATH = \"/mnt/ssd/SSD_floricslimani/Fish_seq/Davide/2024-10-09 - SeqFISH_Run10 - HeLa-Puro_POLR2\"\n",
    "voxel_size = get_parameter(cleaned_df, RUN_PATH, 'voxel_size')\n",
    "voxel_size"
   ]
  },
  {
   "cell_type": "code",
   "execution_count": null,
   "metadata": {},
   "outputs": [
    {
     "name": "stdout",
     "output_type": "stream",
     "text": [
      "New_run\n",
      " run_id                                                                       4\n",
      "run_name                              2024-08-07 - SeqFISH_Run6 - HeLa_R2TP1-2\n",
      "creation_date                                                20250319 14-52-15\n",
      "last_modification_date                                       20250319 14-52-15\n",
      "pipeline_version                                                           0.1\n",
      "RUN_PATH                     /mnt/ssd/SSD_floricslimani/Fish_seq/Davide/202...\n",
      "VOXEL_SIZE                                                       (200, 97, 97)\n",
      "WASHOUT_KEY_WORD                                                       Washout\n",
      "HAS_BEAD_CHANNEL                                                          True\n",
      "MAP_FILENAME                                               HeLa-R2TP_Run6.xlsx\n",
      "CYCLE_KEY                                                             Cycle n.\n",
      "GENES_NAMES_KEY                         [Gene1 (Ch1 - Cy5), Gene2 (Ch2 - Cy3)]\n",
      "CYCLE_REGEX                             img(\\d+)_000_000000_0000000000.ome.tif\n",
      "PLOT_VISUALS                                                              True\n",
      "DETECTION_MAX_WORKERS                                                        4\n",
      "SPOT_SIZE                                                      (300, 140, 140)\n",
      "ALPHA                                                                      0.5\n",
      "BETA                                                                         1\n",
      "GAMMA                                                                        2\n",
      "CLUSTER_SIZE                                                               300\n",
      "MIN_SPOT_PER_CLUSTER                                                         3\n",
      "ARTIFACT_RADIUS                                                           1400\n",
      "DETECTION_SLICE_TO_REMOVE                                            [5, None]\n",
      "SAVE_PATH                    /mnt/ssd/SSD_floricslimani/Fish_seq/Davide/202...\n",
      "BEAD_SIZE                                                      (200, 200, 200)\n",
      "DRIFT_SLICE_TO_REMOVE                                                   [5, 5]\n",
      "DO_HIGHPASS_FILTER                                                       False\n",
      "COLOC_DISTANCE                                                             200\n",
      "QUANTIF_MAX_WORKERS                                                         10\n",
      "COLOC_POPULATION                                        (all, free, clustered)\n",
      "NUCLEUS_FOLDER                                                   DAPI_Z-stacks\n",
      "FISH_FOLDER                                                      FISH_Z-stacks\n",
      "NUCLEUS_MODEL                                                           nuclei\n",
      "CYTOPLASM_MODEL                                                          cyto3\n",
      "NUCLEUS_SIZE                                                               140\n",
      "CYTOPLASM_SIZE                                                             200\n",
      "input                                                                    False\n",
      "detection                                                                False\n",
      "segmentation                                                             False\n",
      "drift                                                                    False\n",
      "alignement                                                               False\n",
      "washout                                                                  False\n",
      "quantification                                                           False\n",
      "Name: 0, dtype: object\n",
      "run_dataframe\n",
      " run_id                                                                       3\n",
      "creation_date                                                20250319 14-14-16\n",
      "last_modification_date                                       20250319 14-14-16\n",
      "RUN_PATH                     /mnt/ssd/SSD_floricslimani/Fish_seq/Davide/202...\n",
      "VOXEL_SIZE                                                       [200, 97, 97]\n",
      "WASHOUT_KEY_WORD                                                       Washout\n",
      "HAS_BEAD_CHANNEL                                                          True\n",
      "MAP_FILENAME                                               HeLa-R2TP_Run7.xlsx\n",
      "CYCLE_KEY                                                             Cycle n.\n",
      "GENES_NAMES_KEY                         [Gene1 (Ch1 - Cy5), Gene2 (Ch2 - Cy3)]\n",
      "CYCLE_REGEX                             img(\\d+)_000_000000_0000000000.ome.tif\n",
      "PLOT_VISUALS                                                              True\n",
      "DETECTION_MAX_WORKERS                                                      4.0\n",
      "SPOT_SIZE                                                      [300, 140, 140]\n",
      "ALPHA                                                                      0.5\n",
      "BETA                                                                       1.0\n",
      "GAMMA                                                                      2.0\n",
      "CLUSTER_SIZE                                                             300.0\n",
      "MIN_SPOT_PER_CLUSTER                                                       3.0\n",
      "ARTIFACT_RADIUS                                                         1400.0\n",
      "DETECTION_SLICE_TO_REMOVE                                           [5.0, nan]\n",
      "SAVE_PATH                    /mnt/ssd/SSD_floricslimani/Fish_seq/Davide/202...\n",
      "BEAD_SIZE                                                      [200, 200, 200]\n",
      "DRIFT_SLICE_TO_REMOVE                                                   [5, 5]\n",
      "DO_HIGHPASS_FILTER                                                       False\n",
      "COLOC_DISTANCE                                                           200.0\n",
      "QUANTIF_MAX_WORKERS                                                       10.0\n",
      "COLOC_POPULATION                                        [all, free, clustered]\n",
      "NUCLEUS                                                                  140.0\n",
      "FISH                                                             FISH_Z-stacks\n",
      "CYTOPLASM                                                                200.0\n",
      "input                                                                     True\n",
      "detection                                                                 None\n",
      "segmentation                                                              None\n",
      "drift                                                                     None\n",
      "alignement                                                                None\n",
      "washout                                                                   None\n",
      "quantification                                                            None\n",
      "pipeline_version                                                           0.1\n",
      "run_name                              2024-08-07 - SeqFISH_Run6 - HeLa_R2TP1-2\n",
      "NUCLEUS_FOLDER                                                              []\n",
      "FISH_FOLDER                                                                 []\n",
      "NUCLEUS_MODEL                                                               []\n",
      "CYTOPLASM_MODEL                                                             []\n",
      "NUCLEUS_SIZE                                                               NaN\n",
      "CYTOPLASM_SIZE                                                             NaN\n",
      "Name: 3, dtype: object\n"
     ]
    },
    {
     "ename": "ArrowInvalid",
     "evalue": "('cannot mix list and non-list, non-null values', 'Conversion failed for column NUCLEUS_FOLDER with type object')",
     "output_type": "error",
     "traceback": [
      "\u001b[0;31m---------------------------------------------------------------------------\u001b[0m",
      "\u001b[0;31mArrowInvalid\u001b[0m                              Traceback (most recent call last)",
      "Cell \u001b[0;32mIn[4], line 3\u001b[0m\n\u001b[1;32m      1\u001b[0m \u001b[38;5;28;01mfrom\u001b[39;00m\u001b[38;5;250m \u001b[39m\u001b[38;5;21;01mSequential_Fish\u001b[39;00m\u001b[38;5;21;01m.\u001b[39;00m\u001b[38;5;21;01mrun_saves\u001b[39;00m\u001b[38;5;250m \u001b[39m\u001b[38;5;28;01mimport\u001b[39;00m update_run\n\u001b[1;32m      2\u001b[0m \u001b[38;5;28;01mfrom\u001b[39;00m\u001b[38;5;250m \u001b[39m\u001b[38;5;21;01mSequential_Fish\u001b[39;00m\u001b[38;5;21;01m.\u001b[39;00m\u001b[38;5;21;01mpipeline_parameters\u001b[39;00m\u001b[38;5;250m \u001b[39m\u001b[38;5;28;01mimport\u001b[39;00m RUN_PATH\n\u001b[0;32m----> 3\u001b[0m \u001b[43mupdate_run\u001b[49m\u001b[43m(\u001b[49m\u001b[43mRUN_PATH\u001b[49m\u001b[43m)\u001b[49m\n\u001b[1;32m      4\u001b[0m get_run_cache()\n",
      "File \u001b[0;32m~/miniconda3/envs/dev/lib/python3.8/site-packages/Sequential_Fish/run_saves/update.py:47\u001b[0m, in \u001b[0;36mupdate_run\u001b[0;34m(run_path)\u001b[0m\n\u001b[1;32m     44\u001b[0m \u001b[38;5;28mprint\u001b[39m(\u001b[38;5;124m\"\u001b[39m\u001b[38;5;124mrun_dataframe\u001b[39m\u001b[38;5;130;01m\\n\u001b[39;00m\u001b[38;5;124m\"\u001b[39m,run_dataframe\u001b[38;5;241m.\u001b[39mloc[run_index])\n\u001b[1;32m     45\u001b[0m run_dataframe\u001b[38;5;241m.\u001b[39mloc[run_index] \u001b[38;5;241m=\u001b[39m new_run\n\u001b[0;32m---> 47\u001b[0m \u001b[43mrun_dataframe\u001b[49m\u001b[38;5;241;43m.\u001b[39;49m\u001b[43mreset_index\u001b[49m\u001b[43m(\u001b[49m\u001b[43mdrop\u001b[49m\u001b[38;5;241;43m=\u001b[39;49m\u001b[38;5;28;43;01mTrue\u001b[39;49;00m\u001b[43m)\u001b[49m\u001b[38;5;241;43m.\u001b[39;49m\u001b[43mto_feather\u001b[49m\u001b[43m(\u001b[49m\u001b[43m__run_cache_path__\u001b[49m\u001b[43m)\u001b[49m\n",
      "File \u001b[0;32m~/miniconda3/envs/dev/lib/python3.8/site-packages/pandas/core/frame.py:2714\u001b[0m, in \u001b[0;36mDataFrame.to_feather\u001b[0;34m(self, path, **kwargs)\u001b[0m\n\u001b[1;32m   2689\u001b[0m \u001b[38;5;250m\u001b[39m\u001b[38;5;124;03m\"\"\"\u001b[39;00m\n\u001b[1;32m   2690\u001b[0m \u001b[38;5;124;03mWrite a DataFrame to the binary Feather format.\u001b[39;00m\n\u001b[1;32m   2691\u001b[0m \n\u001b[0;32m   (...)\u001b[0m\n\u001b[1;32m   2710\u001b[0m \u001b[38;5;124;03msupports custom indices e.g. `to_parquet`.\u001b[39;00m\n\u001b[1;32m   2711\u001b[0m \u001b[38;5;124;03m\"\"\"\u001b[39;00m\n\u001b[1;32m   2712\u001b[0m \u001b[38;5;28;01mfrom\u001b[39;00m\u001b[38;5;250m \u001b[39m\u001b[38;5;21;01mpandas\u001b[39;00m\u001b[38;5;21;01m.\u001b[39;00m\u001b[38;5;21;01mio\u001b[39;00m\u001b[38;5;21;01m.\u001b[39;00m\u001b[38;5;21;01mfeather_format\u001b[39;00m\u001b[38;5;250m \u001b[39m\u001b[38;5;28;01mimport\u001b[39;00m to_feather\n\u001b[0;32m-> 2714\u001b[0m \u001b[43mto_feather\u001b[49m\u001b[43m(\u001b[49m\u001b[38;5;28;43mself\u001b[39;49m\u001b[43m,\u001b[49m\u001b[43m \u001b[49m\u001b[43mpath\u001b[49m\u001b[43m,\u001b[49m\u001b[43m \u001b[49m\u001b[38;5;241;43m*\u001b[39;49m\u001b[38;5;241;43m*\u001b[39;49m\u001b[43mkwargs\u001b[49m\u001b[43m)\u001b[49m\n",
      "File \u001b[0;32m~/miniconda3/envs/dev/lib/python3.8/site-packages/pandas/io/feather_format.py:96\u001b[0m, in \u001b[0;36mto_feather\u001b[0;34m(df, path, storage_options, **kwargs)\u001b[0m\n\u001b[1;32m     91\u001b[0m     \u001b[38;5;28;01mraise\u001b[39;00m \u001b[38;5;167;01mValueError\u001b[39;00m(\u001b[38;5;124m\"\u001b[39m\u001b[38;5;124mfeather must have string column names\u001b[39m\u001b[38;5;124m\"\u001b[39m)\n\u001b[1;32m     93\u001b[0m \u001b[38;5;28;01mwith\u001b[39;00m get_handle(\n\u001b[1;32m     94\u001b[0m     path, \u001b[38;5;124m\"\u001b[39m\u001b[38;5;124mwb\u001b[39m\u001b[38;5;124m\"\u001b[39m, storage_options\u001b[38;5;241m=\u001b[39mstorage_options, is_text\u001b[38;5;241m=\u001b[39m\u001b[38;5;28;01mFalse\u001b[39;00m\n\u001b[1;32m     95\u001b[0m ) \u001b[38;5;28;01mas\u001b[39;00m handles:\n\u001b[0;32m---> 96\u001b[0m     \u001b[43mfeather\u001b[49m\u001b[38;5;241;43m.\u001b[39;49m\u001b[43mwrite_feather\u001b[49m\u001b[43m(\u001b[49m\u001b[43mdf\u001b[49m\u001b[43m,\u001b[49m\u001b[43m \u001b[49m\u001b[43mhandles\u001b[49m\u001b[38;5;241;43m.\u001b[39;49m\u001b[43mhandle\u001b[49m\u001b[43m,\u001b[49m\u001b[43m \u001b[49m\u001b[38;5;241;43m*\u001b[39;49m\u001b[38;5;241;43m*\u001b[39;49m\u001b[43mkwargs\u001b[49m\u001b[43m)\u001b[49m\n",
      "File \u001b[0;32m~/miniconda3/envs/dev/lib/python3.8/site-packages/pyarrow/feather.py:156\u001b[0m, in \u001b[0;36mwrite_feather\u001b[0;34m(df, dest, compression, compression_level, chunksize, version)\u001b[0m\n\u001b[1;32m    153\u001b[0m \u001b[38;5;28;01melse\u001b[39;00m:\n\u001b[1;32m    154\u001b[0m     \u001b[38;5;28;01mraise\u001b[39;00m \u001b[38;5;167;01mValueError\u001b[39;00m(\u001b[38;5;124m\"\u001b[39m\u001b[38;5;124mVersion value should either be 1 or 2\u001b[39m\u001b[38;5;124m\"\u001b[39m)\n\u001b[0;32m--> 156\u001b[0m table \u001b[38;5;241m=\u001b[39m \u001b[43mTable\u001b[49m\u001b[38;5;241;43m.\u001b[39;49m\u001b[43mfrom_pandas\u001b[49m\u001b[43m(\u001b[49m\u001b[43mdf\u001b[49m\u001b[43m,\u001b[49m\u001b[43m \u001b[49m\u001b[43mpreserve_index\u001b[49m\u001b[38;5;241;43m=\u001b[39;49m\u001b[43mpreserve_index\u001b[49m\u001b[43m)\u001b[49m\n\u001b[1;32m    158\u001b[0m \u001b[38;5;28;01mif\u001b[39;00m version \u001b[38;5;241m==\u001b[39m \u001b[38;5;241m1\u001b[39m:\n\u001b[1;32m    159\u001b[0m     \u001b[38;5;66;03m# Version 1 does not chunking\u001b[39;00m\n\u001b[1;32m    160\u001b[0m     \u001b[38;5;28;01mfor\u001b[39;00m i, name \u001b[38;5;129;01min\u001b[39;00m \u001b[38;5;28menumerate\u001b[39m(table\u001b[38;5;241m.\u001b[39mschema\u001b[38;5;241m.\u001b[39mnames):\n",
      "File \u001b[0;32m~/miniconda3/envs/dev/lib/python3.8/site-packages/pyarrow/table.pxi:4623\u001b[0m, in \u001b[0;36mpyarrow.lib.Table.from_pandas\u001b[0;34m()\u001b[0m\n",
      "File \u001b[0;32m~/miniconda3/envs/dev/lib/python3.8/site-packages/pyarrow/pandas_compat.py:616\u001b[0m, in \u001b[0;36mdataframe_to_arrays\u001b[0;34m(df, schema, preserve_index, nthreads, columns, safe)\u001b[0m\n\u001b[1;32m    611\u001b[0m     \u001b[38;5;28;01mreturn\u001b[39;00m (\u001b[38;5;28misinstance\u001b[39m(arr, np\u001b[38;5;241m.\u001b[39mndarray) \u001b[38;5;129;01mand\u001b[39;00m\n\u001b[1;32m    612\u001b[0m             arr\u001b[38;5;241m.\u001b[39mflags\u001b[38;5;241m.\u001b[39mcontiguous \u001b[38;5;129;01mand\u001b[39;00m\n\u001b[1;32m    613\u001b[0m             \u001b[38;5;28missubclass\u001b[39m(arr\u001b[38;5;241m.\u001b[39mdtype\u001b[38;5;241m.\u001b[39mtype, np\u001b[38;5;241m.\u001b[39minteger))\n\u001b[1;32m    615\u001b[0m \u001b[38;5;28;01mif\u001b[39;00m nthreads \u001b[38;5;241m==\u001b[39m \u001b[38;5;241m1\u001b[39m:\n\u001b[0;32m--> 616\u001b[0m     arrays \u001b[38;5;241m=\u001b[39m [convert_column(c, f)\n\u001b[1;32m    617\u001b[0m               \u001b[38;5;28;01mfor\u001b[39;00m c, f \u001b[38;5;129;01min\u001b[39;00m \u001b[38;5;28mzip\u001b[39m(columns_to_convert, convert_fields)]\n\u001b[1;32m    618\u001b[0m \u001b[38;5;28;01melse\u001b[39;00m:\n\u001b[1;32m    619\u001b[0m     arrays \u001b[38;5;241m=\u001b[39m []\n",
      "File \u001b[0;32m~/miniconda3/envs/dev/lib/python3.8/site-packages/pyarrow/pandas_compat.py:616\u001b[0m, in \u001b[0;36m<listcomp>\u001b[0;34m(.0)\u001b[0m\n\u001b[1;32m    611\u001b[0m     \u001b[38;5;28;01mreturn\u001b[39;00m (\u001b[38;5;28misinstance\u001b[39m(arr, np\u001b[38;5;241m.\u001b[39mndarray) \u001b[38;5;129;01mand\u001b[39;00m\n\u001b[1;32m    612\u001b[0m             arr\u001b[38;5;241m.\u001b[39mflags\u001b[38;5;241m.\u001b[39mcontiguous \u001b[38;5;129;01mand\u001b[39;00m\n\u001b[1;32m    613\u001b[0m             \u001b[38;5;28missubclass\u001b[39m(arr\u001b[38;5;241m.\u001b[39mdtype\u001b[38;5;241m.\u001b[39mtype, np\u001b[38;5;241m.\u001b[39minteger))\n\u001b[1;32m    615\u001b[0m \u001b[38;5;28;01mif\u001b[39;00m nthreads \u001b[38;5;241m==\u001b[39m \u001b[38;5;241m1\u001b[39m:\n\u001b[0;32m--> 616\u001b[0m     arrays \u001b[38;5;241m=\u001b[39m [\u001b[43mconvert_column\u001b[49m\u001b[43m(\u001b[49m\u001b[43mc\u001b[49m\u001b[43m,\u001b[49m\u001b[43m \u001b[49m\u001b[43mf\u001b[49m\u001b[43m)\u001b[49m\n\u001b[1;32m    617\u001b[0m               \u001b[38;5;28;01mfor\u001b[39;00m c, f \u001b[38;5;129;01min\u001b[39;00m \u001b[38;5;28mzip\u001b[39m(columns_to_convert, convert_fields)]\n\u001b[1;32m    618\u001b[0m \u001b[38;5;28;01melse\u001b[39;00m:\n\u001b[1;32m    619\u001b[0m     arrays \u001b[38;5;241m=\u001b[39m []\n",
      "File \u001b[0;32m~/miniconda3/envs/dev/lib/python3.8/site-packages/pyarrow/pandas_compat.py:603\u001b[0m, in \u001b[0;36mdataframe_to_arrays.<locals>.convert_column\u001b[0;34m(col, field)\u001b[0m\n\u001b[1;32m    598\u001b[0m \u001b[38;5;28;01mexcept\u001b[39;00m (pa\u001b[38;5;241m.\u001b[39mArrowInvalid,\n\u001b[1;32m    599\u001b[0m         pa\u001b[38;5;241m.\u001b[39mArrowNotImplementedError,\n\u001b[1;32m    600\u001b[0m         pa\u001b[38;5;241m.\u001b[39mArrowTypeError) \u001b[38;5;28;01mas\u001b[39;00m e:\n\u001b[1;32m    601\u001b[0m     e\u001b[38;5;241m.\u001b[39margs \u001b[38;5;241m+\u001b[39m\u001b[38;5;241m=\u001b[39m (\u001b[38;5;124m\"\u001b[39m\u001b[38;5;124mConversion failed for column \u001b[39m\u001b[38;5;132;01m{!s}\u001b[39;00m\u001b[38;5;124m with type \u001b[39m\u001b[38;5;132;01m{!s}\u001b[39;00m\u001b[38;5;124m\"\u001b[39m\n\u001b[1;32m    602\u001b[0m                \u001b[38;5;241m.\u001b[39mformat(col\u001b[38;5;241m.\u001b[39mname, col\u001b[38;5;241m.\u001b[39mdtype),)\n\u001b[0;32m--> 603\u001b[0m     \u001b[38;5;28;01mraise\u001b[39;00m e\n\u001b[1;32m    604\u001b[0m \u001b[38;5;28;01mif\u001b[39;00m \u001b[38;5;129;01mnot\u001b[39;00m field_nullable \u001b[38;5;129;01mand\u001b[39;00m result\u001b[38;5;241m.\u001b[39mnull_count \u001b[38;5;241m>\u001b[39m \u001b[38;5;241m0\u001b[39m:\n\u001b[1;32m    605\u001b[0m     \u001b[38;5;28;01mraise\u001b[39;00m \u001b[38;5;167;01mValueError\u001b[39;00m(\u001b[38;5;124m\"\u001b[39m\u001b[38;5;124mField \u001b[39m\u001b[38;5;132;01m{}\u001b[39;00m\u001b[38;5;124m was non-nullable but pandas column \u001b[39m\u001b[38;5;124m\"\u001b[39m\n\u001b[1;32m    606\u001b[0m                      \u001b[38;5;124m\"\u001b[39m\u001b[38;5;124mhad \u001b[39m\u001b[38;5;132;01m{}\u001b[39;00m\u001b[38;5;124m null values\u001b[39m\u001b[38;5;124m\"\u001b[39m\u001b[38;5;241m.\u001b[39mformat(\u001b[38;5;28mstr\u001b[39m(field),\n\u001b[1;32m    607\u001b[0m                                                  result\u001b[38;5;241m.\u001b[39mnull_count))\n",
      "File \u001b[0;32m~/miniconda3/envs/dev/lib/python3.8/site-packages/pyarrow/pandas_compat.py:597\u001b[0m, in \u001b[0;36mdataframe_to_arrays.<locals>.convert_column\u001b[0;34m(col, field)\u001b[0m\n\u001b[1;32m    594\u001b[0m     type_ \u001b[38;5;241m=\u001b[39m field\u001b[38;5;241m.\u001b[39mtype\n\u001b[1;32m    596\u001b[0m \u001b[38;5;28;01mtry\u001b[39;00m:\n\u001b[0;32m--> 597\u001b[0m     result \u001b[38;5;241m=\u001b[39m \u001b[43mpa\u001b[49m\u001b[38;5;241;43m.\u001b[39;49m\u001b[43marray\u001b[49m\u001b[43m(\u001b[49m\u001b[43mcol\u001b[49m\u001b[43m,\u001b[49m\u001b[43m \u001b[49m\u001b[38;5;28;43mtype\u001b[39;49m\u001b[38;5;241;43m=\u001b[39;49m\u001b[43mtype_\u001b[49m\u001b[43m,\u001b[49m\u001b[43m \u001b[49m\u001b[43mfrom_pandas\u001b[49m\u001b[38;5;241;43m=\u001b[39;49m\u001b[38;5;28;43;01mTrue\u001b[39;49;00m\u001b[43m,\u001b[49m\u001b[43m \u001b[49m\u001b[43msafe\u001b[49m\u001b[38;5;241;43m=\u001b[39;49m\u001b[43msafe\u001b[49m\u001b[43m)\u001b[49m\n\u001b[1;32m    598\u001b[0m \u001b[38;5;28;01mexcept\u001b[39;00m (pa\u001b[38;5;241m.\u001b[39mArrowInvalid,\n\u001b[1;32m    599\u001b[0m         pa\u001b[38;5;241m.\u001b[39mArrowNotImplementedError,\n\u001b[1;32m    600\u001b[0m         pa\u001b[38;5;241m.\u001b[39mArrowTypeError) \u001b[38;5;28;01mas\u001b[39;00m e:\n\u001b[1;32m    601\u001b[0m     e\u001b[38;5;241m.\u001b[39margs \u001b[38;5;241m+\u001b[39m\u001b[38;5;241m=\u001b[39m (\u001b[38;5;124m\"\u001b[39m\u001b[38;5;124mConversion failed for column \u001b[39m\u001b[38;5;132;01m{!s}\u001b[39;00m\u001b[38;5;124m with type \u001b[39m\u001b[38;5;132;01m{!s}\u001b[39;00m\u001b[38;5;124m\"\u001b[39m\n\u001b[1;32m    602\u001b[0m                \u001b[38;5;241m.\u001b[39mformat(col\u001b[38;5;241m.\u001b[39mname, col\u001b[38;5;241m.\u001b[39mdtype),)\n",
      "File \u001b[0;32m~/miniconda3/envs/dev/lib/python3.8/site-packages/pyarrow/array.pxi:358\u001b[0m, in \u001b[0;36mpyarrow.lib.array\u001b[0;34m()\u001b[0m\n",
      "File \u001b[0;32m~/miniconda3/envs/dev/lib/python3.8/site-packages/pyarrow/array.pxi:85\u001b[0m, in \u001b[0;36mpyarrow.lib._ndarray_to_array\u001b[0;34m()\u001b[0m\n",
      "File \u001b[0;32m~/miniconda3/envs/dev/lib/python3.8/site-packages/pyarrow/error.pxi:92\u001b[0m, in \u001b[0;36mpyarrow.lib.check_status\u001b[0;34m()\u001b[0m\n",
      "\u001b[0;31mArrowInvalid\u001b[0m: ('cannot mix list and non-list, non-null values', 'Conversion failed for column NUCLEUS_FOLDER with type object')"
     ]
    }
   ],
   "source": [
    "from Sequential_Fish.run_saves import update_run\n",
    "from Sequential_Fish.pipeline_parameters import RUN_PATH\n",
    "update_run(RUN_PATH)\n",
    "get_run_cache()"
   ]
  }
 ],
 "metadata": {
  "kernelspec": {
   "display_name": "dev",
   "language": "python",
   "name": "python3"
  },
  "language_info": {
   "codemirror_mode": {
    "name": "ipython",
    "version": 3
   },
   "file_extension": ".py",
   "mimetype": "text/x-python",
   "name": "python",
   "nbconvert_exporter": "python",
   "pygments_lexer": "ipython3",
   "version": "3.8.20"
  }
 },
 "nbformat": 4,
 "nbformat_minor": 2
}
