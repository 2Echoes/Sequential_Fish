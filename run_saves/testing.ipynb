{
 "cells": [
  {
   "cell_type": "code",
   "execution_count": 1,
   "metadata": {},
   "outputs": [
    {
     "data": {
      "application/vnd.microsoft.datawrangler.viewer.v0+json": {
       "columns": [
        {
         "name": "index",
         "rawType": "int64",
         "type": "integer"
        },
        {
         "name": "index",
         "rawType": "float64",
         "type": "float"
        },
        {
         "name": "run_id",
         "rawType": "float64",
         "type": "float"
        },
        {
         "name": "creation_date",
         "rawType": "object",
         "type": "string"
        },
        {
         "name": "last_modification_date",
         "rawType": "object",
         "type": "string"
        },
        {
         "name": "RUN_PATH",
         "rawType": "object",
         "type": "string"
        },
        {
         "name": "VOXEL_SIZE",
         "rawType": "object",
         "type": "unknown"
        },
        {
         "name": "WASHOUT_KEY_WORD",
         "rawType": "object",
         "type": "string"
        },
        {
         "name": "HAS_BEAD_CHANNEL",
         "rawType": "bool",
         "type": "boolean"
        },
        {
         "name": "MAP_FILENAME",
         "rawType": "object",
         "type": "string"
        },
        {
         "name": "CYCLE_KEY",
         "rawType": "object",
         "type": "string"
        },
        {
         "name": "GENES_NAMES_KEY",
         "rawType": "object",
         "type": "unknown"
        },
        {
         "name": "CYCLE_REGEX",
         "rawType": "object",
         "type": "string"
        },
        {
         "name": "PLOT_VISUALS",
         "rawType": "bool",
         "type": "boolean"
        },
        {
         "name": "DETECTION_MAX_WORKERS",
         "rawType": "float64",
         "type": "float"
        },
        {
         "name": "SPOT_SIZE",
         "rawType": "object",
         "type": "unknown"
        },
        {
         "name": "ALPHA",
         "rawType": "float64",
         "type": "float"
        },
        {
         "name": "BETA",
         "rawType": "float64",
         "type": "float"
        },
        {
         "name": "GAMMA",
         "rawType": "float64",
         "type": "float"
        },
        {
         "name": "CLUSTER_SIZE",
         "rawType": "float64",
         "type": "float"
        },
        {
         "name": "MIN_SPOT_PER_CLUSTER",
         "rawType": "float64",
         "type": "float"
        },
        {
         "name": "ARTIFACT_RADIUS",
         "rawType": "float64",
         "type": "float"
        },
        {
         "name": "DETECTION_SLICE_TO_REMOVE",
         "rawType": "object",
         "type": "unknown"
        },
        {
         "name": "SAVE_PATH",
         "rawType": "object",
         "type": "string"
        },
        {
         "name": "BEAD_SIZE",
         "rawType": "object",
         "type": "unknown"
        },
        {
         "name": "DRIFT_SLICE_TO_REMOVE",
         "rawType": "object",
         "type": "unknown"
        },
        {
         "name": "DO_HIGHPASS_FILTER",
         "rawType": "bool",
         "type": "boolean"
        },
        {
         "name": "COLOC_DISTANCE",
         "rawType": "float64",
         "type": "float"
        },
        {
         "name": "QUANTIF_MAX_WORKERS",
         "rawType": "float64",
         "type": "float"
        },
        {
         "name": "COLOC_POPULATION",
         "rawType": "object",
         "type": "unknown"
        },
        {
         "name": "NUCLEUS",
         "rawType": "float64",
         "type": "float"
        },
        {
         "name": "FISH",
         "rawType": "object",
         "type": "string"
        },
        {
         "name": "CYTOPLASM",
         "rawType": "float64",
         "type": "float"
        },
        {
         "name": "input",
         "rawType": "bool",
         "type": "boolean"
        },
        {
         "name": "detection",
         "rawType": "bool",
         "type": "boolean"
        },
        {
         "name": "segmentation",
         "rawType": "object",
         "type": "unknown"
        },
        {
         "name": "drift",
         "rawType": "object",
         "type": "unknown"
        },
        {
         "name": "alignement",
         "rawType": "bool",
         "type": "boolean"
        },
        {
         "name": "washout",
         "rawType": "bool",
         "type": "boolean"
        },
        {
         "name": "quantification",
         "rawType": "bool",
         "type": "boolean"
        },
        {
         "name": "pipeline_version",
         "rawType": "float64",
         "type": "float"
        },
        {
         "name": "run_name",
         "rawType": "object",
         "type": "unknown"
        }
       ],
       "conversionMethod": "pd.DataFrame",
       "ref": "861a63ab-b693-4623-94f3-ba51a1bf24bf",
       "rows": [
        [
         "0",
         "1.0",
         null,
         "20250313 14-04-07",
         "20250313 14-04-07",
         "/mnt/ssd/SSD_floricslimani/Fish_seq/Davide/2024-08-12 - SeqFISH - HeLa - Puro - R2TP1-2_Run7",
         "[200  97  97]",
         "Washout",
         "True",
         "HeLa-R2TP_Run7.xlsx",
         "Cycle n.",
         "['Gene1 (Ch1 - Cy5)' 'Gene2 (Ch2 - Cy3)']",
         "img(\\d+)_000_000000_0000000000.ome.tif",
         "True",
         "4.0",
         "[300 140 140]",
         "0.5",
         "1.0",
         "2.0",
         "300.0",
         "3.0",
         "1400.0",
         "[ 5. nan]",
         "/mnt/ssd/SSD_floricslimani/Fish_seq/Davide/2024-08-12 - SeqFISH - HeLa - Puro - R2TP1-2_Run7/visuals/",
         "[200 200 200]",
         "[5 5]",
         "False",
         "200.0",
         "10.0",
         "['all' 'free' 'clustered']",
         "140.0",
         "FISH_Z-stacks",
         "200.0",
         "False",
         "False",
         "False",
         "False",
         "False",
         "False",
         "False",
         "0.1",
         null
        ],
        [
         "1",
         "3.0",
         null,
         "20250318 11-55-44",
         "20250318 11-55-44",
         "/mnt/ssd/SSD_floricslimani/Fish_seq/Davide/2024-10-09 - SeqFISH_Run10 - HeLa-Puro_POLR2",
         "[200  97  97]",
         "Washout",
         "True",
         "HeLa-R2TP_Run7.xlsx",
         "Cycle n.",
         "['Gene1 (Ch1 - Cy5)' 'Gene2 (Ch2 - Cy3)']",
         "img(\\d+)_000_000000_0000000000.ome.tif",
         "True",
         "4.0",
         "[300 140 140]",
         "0.5",
         "1.0",
         "2.0",
         "300.0",
         "3.0",
         "1400.0",
         "[ 5. nan]",
         "/mnt/ssd/SSD_floricslimani/Fish_seq/Davide/2024-10-09 - SeqFISH_Run10 - HeLa-Puro_POLR2/visuals/",
         "[200 200 200]",
         "[5 5]",
         "False",
         "200.0",
         "10.0",
         "['all' 'free' 'clustered']",
         "140.0",
         "FISH_Z-stacks",
         "200.0",
         "True",
         "True",
         null,
         null,
         "True",
         "True",
         "True",
         "0.1",
         "2024-10-09 - SeqFISH_Run10 - HeLa-Puro_POLR2"
        ],
        [
         "2",
         "4.0",
         null,
         "20250318 11-56-55",
         "20250318 11-56-55",
         "/mnt/ssd/SSD_floricslimani/Fish_seq/Davide/2024-09-03 - SeqFISH_Run8 - HeLa_POLR2",
         "[200  97  97]",
         "Washout",
         "True",
         "HeLa-POLR2_Run8.xlsx",
         "Cycle n.",
         "['Gene1 (Ch1 - Cy3 - CAM_1)']",
         "img(\\d+)_000_000000_0000000000.ome.tif",
         "True",
         "4.0",
         "[300 140 140]",
         "0.5",
         "1.0",
         "2.0",
         "300.0",
         "3.0",
         "1400.0",
         "[ 5. nan]",
         "/mnt/ssd/SSD_floricslimani/Fish_seq/Davide/2024-09-03 - SeqFISH_Run8 - HeLa_POLR2/visuals/",
         "[200 200 200]",
         "[5 5]",
         "False",
         "200.0",
         "10.0",
         "['all' 'free' 'clustered']",
         "140.0",
         "FISH_Z-stacks",
         "200.0",
         "True",
         "True",
         null,
         null,
         "True",
         "True",
         "True",
         "0.1",
         "2024-09-03 - SeqFISH_Run8 - HeLa_POLR2"
        ],
        [
         "3",
         null,
         null,
         "20250318 15-36-35",
         "20250318 15-36-35",
         "/mnt/ssd/SSD_floricslimani/Fish_seq/Davide/2024-09-03 - SeqFISH_Run8 - HeLa_POLR2",
         "[200  97  97]",
         "Washout",
         "True",
         "HeLa-POLR2_Run8.xlsx",
         "Cycle n.",
         "['Gene1 (Ch1 - Cy3 - CAM_1)']",
         "img(\\d+)_000_000000_0000000000.ome.tif",
         "True",
         "4.0",
         "[300 140 140]",
         "0.5",
         "1.0",
         "2.0",
         "300.0",
         "3.0",
         "1400.0",
         "[ 5. nan]",
         "/mnt/ssd/SSD_floricslimani/Fish_seq/Davide/2024-09-03 - SeqFISH_Run8 - HeLa_POLR2/visuals/",
         "[200 200 200]",
         "[5 5]",
         "False",
         "200.0",
         "10.0",
         "['all' 'free' 'clustered']",
         "140.0",
         "FISH_Z-stacks",
         "200.0",
         "True",
         "True",
         null,
         null,
         "True",
         "True",
         "True",
         "0.1",
         "2024-09-03 - SeqFISH_Run8 - HeLa_POLR2"
        ],
        [
         "4",
         null,
         null,
         "20250318 15-40-18",
         "20250318 15-40-18",
         "/mnt/ssd/SSD_floricslimani/Fish_seq/Davide/2024-10-09 - SeqFISH_Run10 - HeLa-Puro_POLR2",
         "[200  97  97]",
         "Washout",
         "True",
         "HeLa-Puro-POLR2_Run10.xlsx",
         "Cycle n.",
         "['Gene1 (Ch1 - Cy3 - CAM_1)']",
         "img(\\d+)_000_000000_0000000000.ome.tif",
         "True",
         "4.0",
         "[300 140 140]",
         "0.5",
         "1.0",
         "2.0",
         "300.0",
         "3.0",
         "1400.0",
         "[ 5. nan]",
         "/mnt/ssd/SSD_floricslimani/Fish_seq/Davide/2024-10-09 - SeqFISH_Run10 - HeLa-Puro_POLR2/visuals/",
         "[200 200 200]",
         "[5 5]",
         "False",
         "200.0",
         "10.0",
         "['all' 'free' 'clustered']",
         "140.0",
         "FISH_Z-stacks",
         "200.0",
         "True",
         "True",
         null,
         null,
         "True",
         "True",
         "True",
         "0.1",
         "2024-10-09 - SeqFISH_Run10 - HeLa-Puro_POLR2"
        ]
       ],
       "shape": {
        "columns": 41,
        "rows": 5
       }
      },
      "text/html": [
       "<div>\n",
       "<style scoped>\n",
       "    .dataframe tbody tr th:only-of-type {\n",
       "        vertical-align: middle;\n",
       "    }\n",
       "\n",
       "    .dataframe tbody tr th {\n",
       "        vertical-align: top;\n",
       "    }\n",
       "\n",
       "    .dataframe thead th {\n",
       "        text-align: right;\n",
       "    }\n",
       "</style>\n",
       "<table border=\"1\" class=\"dataframe\">\n",
       "  <thead>\n",
       "    <tr style=\"text-align: right;\">\n",
       "      <th></th>\n",
       "      <th>index</th>\n",
       "      <th>run_id</th>\n",
       "      <th>creation_date</th>\n",
       "      <th>last_modification_date</th>\n",
       "      <th>RUN_PATH</th>\n",
       "      <th>VOXEL_SIZE</th>\n",
       "      <th>WASHOUT_KEY_WORD</th>\n",
       "      <th>HAS_BEAD_CHANNEL</th>\n",
       "      <th>MAP_FILENAME</th>\n",
       "      <th>CYCLE_KEY</th>\n",
       "      <th>...</th>\n",
       "      <th>CYTOPLASM</th>\n",
       "      <th>input</th>\n",
       "      <th>detection</th>\n",
       "      <th>segmentation</th>\n",
       "      <th>drift</th>\n",
       "      <th>alignement</th>\n",
       "      <th>washout</th>\n",
       "      <th>quantification</th>\n",
       "      <th>pipeline_version</th>\n",
       "      <th>run_name</th>\n",
       "    </tr>\n",
       "  </thead>\n",
       "  <tbody>\n",
       "    <tr>\n",
       "      <th>0</th>\n",
       "      <td>1.0</td>\n",
       "      <td>NaN</td>\n",
       "      <td>20250313 14-04-07</td>\n",
       "      <td>20250313 14-04-07</td>\n",
       "      <td>/mnt/ssd/SSD_floricslimani/Fish_seq/Davide/202...</td>\n",
       "      <td>[200, 97, 97]</td>\n",
       "      <td>Washout</td>\n",
       "      <td>True</td>\n",
       "      <td>HeLa-R2TP_Run7.xlsx</td>\n",
       "      <td>Cycle n.</td>\n",
       "      <td>...</td>\n",
       "      <td>200.0</td>\n",
       "      <td>False</td>\n",
       "      <td>False</td>\n",
       "      <td>False</td>\n",
       "      <td>False</td>\n",
       "      <td>False</td>\n",
       "      <td>False</td>\n",
       "      <td>False</td>\n",
       "      <td>0.1</td>\n",
       "      <td>None</td>\n",
       "    </tr>\n",
       "    <tr>\n",
       "      <th>1</th>\n",
       "      <td>3.0</td>\n",
       "      <td>NaN</td>\n",
       "      <td>20250318 11-55-44</td>\n",
       "      <td>20250318 11-55-44</td>\n",
       "      <td>/mnt/ssd/SSD_floricslimani/Fish_seq/Davide/202...</td>\n",
       "      <td>[200, 97, 97]</td>\n",
       "      <td>Washout</td>\n",
       "      <td>True</td>\n",
       "      <td>HeLa-R2TP_Run7.xlsx</td>\n",
       "      <td>Cycle n.</td>\n",
       "      <td>...</td>\n",
       "      <td>200.0</td>\n",
       "      <td>True</td>\n",
       "      <td>True</td>\n",
       "      <td>None</td>\n",
       "      <td>None</td>\n",
       "      <td>True</td>\n",
       "      <td>True</td>\n",
       "      <td>True</td>\n",
       "      <td>0.1</td>\n",
       "      <td>2024-10-09 - SeqFISH_Run10 - HeLa-Puro_POLR2</td>\n",
       "    </tr>\n",
       "    <tr>\n",
       "      <th>2</th>\n",
       "      <td>4.0</td>\n",
       "      <td>NaN</td>\n",
       "      <td>20250318 11-56-55</td>\n",
       "      <td>20250318 11-56-55</td>\n",
       "      <td>/mnt/ssd/SSD_floricslimani/Fish_seq/Davide/202...</td>\n",
       "      <td>[200, 97, 97]</td>\n",
       "      <td>Washout</td>\n",
       "      <td>True</td>\n",
       "      <td>HeLa-POLR2_Run8.xlsx</td>\n",
       "      <td>Cycle n.</td>\n",
       "      <td>...</td>\n",
       "      <td>200.0</td>\n",
       "      <td>True</td>\n",
       "      <td>True</td>\n",
       "      <td>None</td>\n",
       "      <td>None</td>\n",
       "      <td>True</td>\n",
       "      <td>True</td>\n",
       "      <td>True</td>\n",
       "      <td>0.1</td>\n",
       "      <td>2024-09-03 - SeqFISH_Run8 - HeLa_POLR2</td>\n",
       "    </tr>\n",
       "    <tr>\n",
       "      <th>3</th>\n",
       "      <td>NaN</td>\n",
       "      <td>NaN</td>\n",
       "      <td>20250318 15-36-35</td>\n",
       "      <td>20250318 15-36-35</td>\n",
       "      <td>/mnt/ssd/SSD_floricslimani/Fish_seq/Davide/202...</td>\n",
       "      <td>[200, 97, 97]</td>\n",
       "      <td>Washout</td>\n",
       "      <td>True</td>\n",
       "      <td>HeLa-POLR2_Run8.xlsx</td>\n",
       "      <td>Cycle n.</td>\n",
       "      <td>...</td>\n",
       "      <td>200.0</td>\n",
       "      <td>True</td>\n",
       "      <td>True</td>\n",
       "      <td>None</td>\n",
       "      <td>None</td>\n",
       "      <td>True</td>\n",
       "      <td>True</td>\n",
       "      <td>True</td>\n",
       "      <td>0.1</td>\n",
       "      <td>2024-09-03 - SeqFISH_Run8 - HeLa_POLR2</td>\n",
       "    </tr>\n",
       "    <tr>\n",
       "      <th>4</th>\n",
       "      <td>NaN</td>\n",
       "      <td>NaN</td>\n",
       "      <td>20250318 15-40-18</td>\n",
       "      <td>20250318 15-40-18</td>\n",
       "      <td>/mnt/ssd/SSD_floricslimani/Fish_seq/Davide/202...</td>\n",
       "      <td>[200, 97, 97]</td>\n",
       "      <td>Washout</td>\n",
       "      <td>True</td>\n",
       "      <td>HeLa-Puro-POLR2_Run10.xlsx</td>\n",
       "      <td>Cycle n.</td>\n",
       "      <td>...</td>\n",
       "      <td>200.0</td>\n",
       "      <td>True</td>\n",
       "      <td>True</td>\n",
       "      <td>None</td>\n",
       "      <td>None</td>\n",
       "      <td>True</td>\n",
       "      <td>True</td>\n",
       "      <td>True</td>\n",
       "      <td>0.1</td>\n",
       "      <td>2024-10-09 - SeqFISH_Run10 - HeLa-Puro_POLR2</td>\n",
       "    </tr>\n",
       "  </tbody>\n",
       "</table>\n",
       "<p>5 rows × 41 columns</p>\n",
       "</div>"
      ],
      "text/plain": [
       "   index  run_id      creation_date last_modification_date  \\\n",
       "0    1.0     NaN  20250313 14-04-07      20250313 14-04-07   \n",
       "1    3.0     NaN  20250318 11-55-44      20250318 11-55-44   \n",
       "2    4.0     NaN  20250318 11-56-55      20250318 11-56-55   \n",
       "3    NaN     NaN  20250318 15-36-35      20250318 15-36-35   \n",
       "4    NaN     NaN  20250318 15-40-18      20250318 15-40-18   \n",
       "\n",
       "                                            RUN_PATH     VOXEL_SIZE  \\\n",
       "0  /mnt/ssd/SSD_floricslimani/Fish_seq/Davide/202...  [200, 97, 97]   \n",
       "1  /mnt/ssd/SSD_floricslimani/Fish_seq/Davide/202...  [200, 97, 97]   \n",
       "2  /mnt/ssd/SSD_floricslimani/Fish_seq/Davide/202...  [200, 97, 97]   \n",
       "3  /mnt/ssd/SSD_floricslimani/Fish_seq/Davide/202...  [200, 97, 97]   \n",
       "4  /mnt/ssd/SSD_floricslimani/Fish_seq/Davide/202...  [200, 97, 97]   \n",
       "\n",
       "  WASHOUT_KEY_WORD  HAS_BEAD_CHANNEL                MAP_FILENAME CYCLE_KEY  \\\n",
       "0          Washout              True         HeLa-R2TP_Run7.xlsx  Cycle n.   \n",
       "1          Washout              True         HeLa-R2TP_Run7.xlsx  Cycle n.   \n",
       "2          Washout              True        HeLa-POLR2_Run8.xlsx  Cycle n.   \n",
       "3          Washout              True        HeLa-POLR2_Run8.xlsx  Cycle n.   \n",
       "4          Washout              True  HeLa-Puro-POLR2_Run10.xlsx  Cycle n.   \n",
       "\n",
       "   ... CYTOPLASM  input  detection  segmentation  drift  alignement  washout  \\\n",
       "0  ...     200.0  False      False         False  False       False    False   \n",
       "1  ...     200.0   True       True          None   None        True     True   \n",
       "2  ...     200.0   True       True          None   None        True     True   \n",
       "3  ...     200.0   True       True          None   None        True     True   \n",
       "4  ...     200.0   True       True          None   None        True     True   \n",
       "\n",
       "   quantification  pipeline_version  \\\n",
       "0           False               0.1   \n",
       "1            True               0.1   \n",
       "2            True               0.1   \n",
       "3            True               0.1   \n",
       "4            True               0.1   \n",
       "\n",
       "                                       run_name  \n",
       "0                                          None  \n",
       "1  2024-10-09 - SeqFISH_Run10 - HeLa-Puro_POLR2  \n",
       "2        2024-09-03 - SeqFISH_Run8 - HeLa_POLR2  \n",
       "3        2024-09-03 - SeqFISH_Run8 - HeLa_POLR2  \n",
       "4  2024-10-09 - SeqFISH_Run10 - HeLa-Puro_POLR2  \n",
       "\n",
       "[5 rows x 41 columns]"
      ]
     },
     "execution_count": 1,
     "metadata": {},
     "output_type": "execute_result"
    }
   ],
   "source": [
    "from Sequential_Fish.run_saves import get_run_cache, check_run_dataframe, get_parameter\n",
    "run_dataframe = get_run_cache()\n",
    "run_dataframe"
   ]
  },
  {
   "cell_type": "code",
   "execution_count": 2,
   "metadata": {},
   "outputs": [
    {
     "name": "stderr",
     "output_type": "stream",
     "text": [
      "/home/floric/miniconda3/envs/dev/lib/python3.8/site-packages/Sequential_Fish/run_saves/dataframe.py:62: UserWarning: run_id was not unique in cache or contained na, cleaning run_ids...\n",
      "  warnings.warn(\"run_id was not unique in cache or contained na, cleaning run_ids...\")\n"
     ]
    },
    {
     "data": {
      "application/vnd.microsoft.datawrangler.viewer.v0+json": {
       "columns": [
        {
         "name": "index",
         "rawType": "int64",
         "type": "integer"
        },
        {
         "name": "run_id",
         "rawType": "int64",
         "type": "integer"
        },
        {
         "name": "creation_date",
         "rawType": "object",
         "type": "string"
        },
        {
         "name": "last_modification_date",
         "rawType": "object",
         "type": "string"
        },
        {
         "name": "RUN_PATH",
         "rawType": "object",
         "type": "string"
        },
        {
         "name": "VOXEL_SIZE",
         "rawType": "object",
         "type": "unknown"
        },
        {
         "name": "WASHOUT_KEY_WORD",
         "rawType": "object",
         "type": "string"
        },
        {
         "name": "HAS_BEAD_CHANNEL",
         "rawType": "bool",
         "type": "boolean"
        },
        {
         "name": "MAP_FILENAME",
         "rawType": "object",
         "type": "string"
        },
        {
         "name": "CYCLE_KEY",
         "rawType": "object",
         "type": "string"
        },
        {
         "name": "GENES_NAMES_KEY",
         "rawType": "object",
         "type": "unknown"
        },
        {
         "name": "CYCLE_REGEX",
         "rawType": "object",
         "type": "string"
        },
        {
         "name": "PLOT_VISUALS",
         "rawType": "bool",
         "type": "boolean"
        },
        {
         "name": "DETECTION_MAX_WORKERS",
         "rawType": "float64",
         "type": "float"
        },
        {
         "name": "SPOT_SIZE",
         "rawType": "object",
         "type": "unknown"
        },
        {
         "name": "ALPHA",
         "rawType": "float64",
         "type": "float"
        },
        {
         "name": "BETA",
         "rawType": "float64",
         "type": "float"
        },
        {
         "name": "GAMMA",
         "rawType": "float64",
         "type": "float"
        },
        {
         "name": "CLUSTER_SIZE",
         "rawType": "float64",
         "type": "float"
        },
        {
         "name": "MIN_SPOT_PER_CLUSTER",
         "rawType": "float64",
         "type": "float"
        },
        {
         "name": "ARTIFACT_RADIUS",
         "rawType": "float64",
         "type": "float"
        },
        {
         "name": "DETECTION_SLICE_TO_REMOVE",
         "rawType": "object",
         "type": "unknown"
        },
        {
         "name": "SAVE_PATH",
         "rawType": "object",
         "type": "string"
        },
        {
         "name": "BEAD_SIZE",
         "rawType": "object",
         "type": "unknown"
        },
        {
         "name": "DRIFT_SLICE_TO_REMOVE",
         "rawType": "object",
         "type": "unknown"
        },
        {
         "name": "DO_HIGHPASS_FILTER",
         "rawType": "bool",
         "type": "boolean"
        },
        {
         "name": "COLOC_DISTANCE",
         "rawType": "float64",
         "type": "float"
        },
        {
         "name": "QUANTIF_MAX_WORKERS",
         "rawType": "float64",
         "type": "float"
        },
        {
         "name": "COLOC_POPULATION",
         "rawType": "object",
         "type": "unknown"
        },
        {
         "name": "NUCLEUS",
         "rawType": "float64",
         "type": "float"
        },
        {
         "name": "FISH",
         "rawType": "object",
         "type": "string"
        },
        {
         "name": "CYTOPLASM",
         "rawType": "float64",
         "type": "float"
        },
        {
         "name": "input",
         "rawType": "bool",
         "type": "boolean"
        },
        {
         "name": "detection",
         "rawType": "bool",
         "type": "boolean"
        },
        {
         "name": "segmentation",
         "rawType": "object",
         "type": "unknown"
        },
        {
         "name": "drift",
         "rawType": "object",
         "type": "unknown"
        },
        {
         "name": "alignement",
         "rawType": "bool",
         "type": "boolean"
        },
        {
         "name": "washout",
         "rawType": "bool",
         "type": "boolean"
        },
        {
         "name": "quantification",
         "rawType": "bool",
         "type": "boolean"
        },
        {
         "name": "pipeline_version",
         "rawType": "float64",
         "type": "float"
        },
        {
         "name": "run_name",
         "rawType": "object",
         "type": "unknown"
        }
       ],
       "conversionMethod": "pd.DataFrame",
       "ref": "a4177bdb-f4c0-40dc-a60a-086385d134c8",
       "rows": [
        [
         "0",
         "0",
         "20250313 14-04-07",
         "20250313 14-04-07",
         "/mnt/ssd/SSD_floricslimani/Fish_seq/Davide/2024-08-12 - SeqFISH - HeLa - Puro - R2TP1-2_Run7",
         "[200  97  97]",
         "Washout",
         "True",
         "HeLa-R2TP_Run7.xlsx",
         "Cycle n.",
         "['Gene1 (Ch1 - Cy5)' 'Gene2 (Ch2 - Cy3)']",
         "img(\\d+)_000_000000_0000000000.ome.tif",
         "True",
         "4.0",
         "[300 140 140]",
         "0.5",
         "1.0",
         "2.0",
         "300.0",
         "3.0",
         "1400.0",
         "[ 5. nan]",
         "/mnt/ssd/SSD_floricslimani/Fish_seq/Davide/2024-08-12 - SeqFISH - HeLa - Puro - R2TP1-2_Run7/visuals/",
         "[200 200 200]",
         "[5 5]",
         "False",
         "200.0",
         "10.0",
         "['all' 'free' 'clustered']",
         "140.0",
         "FISH_Z-stacks",
         "200.0",
         "False",
         "False",
         "False",
         "False",
         "False",
         "False",
         "False",
         "0.1",
         null
        ],
        [
         "1",
         "1",
         "20250318 11-55-44",
         "20250318 11-55-44",
         "/mnt/ssd/SSD_floricslimani/Fish_seq/Davide/2024-10-09 - SeqFISH_Run10 - HeLa-Puro_POLR2",
         "[200  97  97]",
         "Washout",
         "True",
         "HeLa-R2TP_Run7.xlsx",
         "Cycle n.",
         "['Gene1 (Ch1 - Cy5)' 'Gene2 (Ch2 - Cy3)']",
         "img(\\d+)_000_000000_0000000000.ome.tif",
         "True",
         "4.0",
         "[300 140 140]",
         "0.5",
         "1.0",
         "2.0",
         "300.0",
         "3.0",
         "1400.0",
         "[ 5. nan]",
         "/mnt/ssd/SSD_floricslimani/Fish_seq/Davide/2024-10-09 - SeqFISH_Run10 - HeLa-Puro_POLR2/visuals/",
         "[200 200 200]",
         "[5 5]",
         "False",
         "200.0",
         "10.0",
         "['all' 'free' 'clustered']",
         "140.0",
         "FISH_Z-stacks",
         "200.0",
         "True",
         "True",
         null,
         null,
         "True",
         "True",
         "True",
         "0.1",
         "2024-10-09 - SeqFISH_Run10 - HeLa-Puro_POLR2"
        ],
        [
         "2",
         "2",
         "20250318 11-56-55",
         "20250318 11-56-55",
         "/mnt/ssd/SSD_floricslimani/Fish_seq/Davide/2024-09-03 - SeqFISH_Run8 - HeLa_POLR2",
         "[200  97  97]",
         "Washout",
         "True",
         "HeLa-POLR2_Run8.xlsx",
         "Cycle n.",
         "['Gene1 (Ch1 - Cy3 - CAM_1)']",
         "img(\\d+)_000_000000_0000000000.ome.tif",
         "True",
         "4.0",
         "[300 140 140]",
         "0.5",
         "1.0",
         "2.0",
         "300.0",
         "3.0",
         "1400.0",
         "[ 5. nan]",
         "/mnt/ssd/SSD_floricslimani/Fish_seq/Davide/2024-09-03 - SeqFISH_Run8 - HeLa_POLR2/visuals/",
         "[200 200 200]",
         "[5 5]",
         "False",
         "200.0",
         "10.0",
         "['all' 'free' 'clustered']",
         "140.0",
         "FISH_Z-stacks",
         "200.0",
         "True",
         "True",
         null,
         null,
         "True",
         "True",
         "True",
         "0.1",
         "2024-09-03 - SeqFISH_Run8 - HeLa_POLR2"
        ]
       ],
       "shape": {
        "columns": 40,
        "rows": 3
       }
      },
      "text/html": [
       "<div>\n",
       "<style scoped>\n",
       "    .dataframe tbody tr th:only-of-type {\n",
       "        vertical-align: middle;\n",
       "    }\n",
       "\n",
       "    .dataframe tbody tr th {\n",
       "        vertical-align: top;\n",
       "    }\n",
       "\n",
       "    .dataframe thead th {\n",
       "        text-align: right;\n",
       "    }\n",
       "</style>\n",
       "<table border=\"1\" class=\"dataframe\">\n",
       "  <thead>\n",
       "    <tr style=\"text-align: right;\">\n",
       "      <th></th>\n",
       "      <th>run_id</th>\n",
       "      <th>creation_date</th>\n",
       "      <th>last_modification_date</th>\n",
       "      <th>RUN_PATH</th>\n",
       "      <th>VOXEL_SIZE</th>\n",
       "      <th>WASHOUT_KEY_WORD</th>\n",
       "      <th>HAS_BEAD_CHANNEL</th>\n",
       "      <th>MAP_FILENAME</th>\n",
       "      <th>CYCLE_KEY</th>\n",
       "      <th>GENES_NAMES_KEY</th>\n",
       "      <th>...</th>\n",
       "      <th>CYTOPLASM</th>\n",
       "      <th>input</th>\n",
       "      <th>detection</th>\n",
       "      <th>segmentation</th>\n",
       "      <th>drift</th>\n",
       "      <th>alignement</th>\n",
       "      <th>washout</th>\n",
       "      <th>quantification</th>\n",
       "      <th>pipeline_version</th>\n",
       "      <th>run_name</th>\n",
       "    </tr>\n",
       "  </thead>\n",
       "  <tbody>\n",
       "    <tr>\n",
       "      <th>0</th>\n",
       "      <td>0</td>\n",
       "      <td>20250313 14-04-07</td>\n",
       "      <td>20250313 14-04-07</td>\n",
       "      <td>/mnt/ssd/SSD_floricslimani/Fish_seq/Davide/202...</td>\n",
       "      <td>[200, 97, 97]</td>\n",
       "      <td>Washout</td>\n",
       "      <td>True</td>\n",
       "      <td>HeLa-R2TP_Run7.xlsx</td>\n",
       "      <td>Cycle n.</td>\n",
       "      <td>[Gene1 (Ch1 - Cy5), Gene2 (Ch2 - Cy3)]</td>\n",
       "      <td>...</td>\n",
       "      <td>200.0</td>\n",
       "      <td>False</td>\n",
       "      <td>False</td>\n",
       "      <td>False</td>\n",
       "      <td>False</td>\n",
       "      <td>False</td>\n",
       "      <td>False</td>\n",
       "      <td>False</td>\n",
       "      <td>0.1</td>\n",
       "      <td>None</td>\n",
       "    </tr>\n",
       "    <tr>\n",
       "      <th>1</th>\n",
       "      <td>1</td>\n",
       "      <td>20250318 11-55-44</td>\n",
       "      <td>20250318 11-55-44</td>\n",
       "      <td>/mnt/ssd/SSD_floricslimani/Fish_seq/Davide/202...</td>\n",
       "      <td>[200, 97, 97]</td>\n",
       "      <td>Washout</td>\n",
       "      <td>True</td>\n",
       "      <td>HeLa-R2TP_Run7.xlsx</td>\n",
       "      <td>Cycle n.</td>\n",
       "      <td>[Gene1 (Ch1 - Cy5), Gene2 (Ch2 - Cy3)]</td>\n",
       "      <td>...</td>\n",
       "      <td>200.0</td>\n",
       "      <td>True</td>\n",
       "      <td>True</td>\n",
       "      <td>None</td>\n",
       "      <td>None</td>\n",
       "      <td>True</td>\n",
       "      <td>True</td>\n",
       "      <td>True</td>\n",
       "      <td>0.1</td>\n",
       "      <td>2024-10-09 - SeqFISH_Run10 - HeLa-Puro_POLR2</td>\n",
       "    </tr>\n",
       "    <tr>\n",
       "      <th>2</th>\n",
       "      <td>2</td>\n",
       "      <td>20250318 11-56-55</td>\n",
       "      <td>20250318 11-56-55</td>\n",
       "      <td>/mnt/ssd/SSD_floricslimani/Fish_seq/Davide/202...</td>\n",
       "      <td>[200, 97, 97]</td>\n",
       "      <td>Washout</td>\n",
       "      <td>True</td>\n",
       "      <td>HeLa-POLR2_Run8.xlsx</td>\n",
       "      <td>Cycle n.</td>\n",
       "      <td>[Gene1 (Ch1 - Cy3 - CAM_1)]</td>\n",
       "      <td>...</td>\n",
       "      <td>200.0</td>\n",
       "      <td>True</td>\n",
       "      <td>True</td>\n",
       "      <td>None</td>\n",
       "      <td>None</td>\n",
       "      <td>True</td>\n",
       "      <td>True</td>\n",
       "      <td>True</td>\n",
       "      <td>0.1</td>\n",
       "      <td>2024-09-03 - SeqFISH_Run8 - HeLa_POLR2</td>\n",
       "    </tr>\n",
       "  </tbody>\n",
       "</table>\n",
       "<p>3 rows × 40 columns</p>\n",
       "</div>"
      ],
      "text/plain": [
       "   run_id      creation_date last_modification_date  \\\n",
       "0       0  20250313 14-04-07      20250313 14-04-07   \n",
       "1       1  20250318 11-55-44      20250318 11-55-44   \n",
       "2       2  20250318 11-56-55      20250318 11-56-55   \n",
       "\n",
       "                                            RUN_PATH     VOXEL_SIZE  \\\n",
       "0  /mnt/ssd/SSD_floricslimani/Fish_seq/Davide/202...  [200, 97, 97]   \n",
       "1  /mnt/ssd/SSD_floricslimani/Fish_seq/Davide/202...  [200, 97, 97]   \n",
       "2  /mnt/ssd/SSD_floricslimani/Fish_seq/Davide/202...  [200, 97, 97]   \n",
       "\n",
       "  WASHOUT_KEY_WORD  HAS_BEAD_CHANNEL          MAP_FILENAME CYCLE_KEY  \\\n",
       "0          Washout              True   HeLa-R2TP_Run7.xlsx  Cycle n.   \n",
       "1          Washout              True   HeLa-R2TP_Run7.xlsx  Cycle n.   \n",
       "2          Washout              True  HeLa-POLR2_Run8.xlsx  Cycle n.   \n",
       "\n",
       "                          GENES_NAMES_KEY  ... CYTOPLASM  input  detection  \\\n",
       "0  [Gene1 (Ch1 - Cy5), Gene2 (Ch2 - Cy3)]  ...     200.0  False      False   \n",
       "1  [Gene1 (Ch1 - Cy5), Gene2 (Ch2 - Cy3)]  ...     200.0   True       True   \n",
       "2             [Gene1 (Ch1 - Cy3 - CAM_1)]  ...     200.0   True       True   \n",
       "\n",
       "  segmentation  drift  alignement  washout  quantification  pipeline_version  \\\n",
       "0        False  False       False    False           False               0.1   \n",
       "1         None   None        True     True            True               0.1   \n",
       "2         None   None        True     True            True               0.1   \n",
       "\n",
       "                                       run_name  \n",
       "0                                          None  \n",
       "1  2024-10-09 - SeqFISH_Run10 - HeLa-Puro_POLR2  \n",
       "2        2024-09-03 - SeqFISH_Run8 - HeLa_POLR2  \n",
       "\n",
       "[3 rows x 40 columns]"
      ]
     },
     "execution_count": 2,
     "metadata": {},
     "output_type": "execute_result"
    }
   ],
   "source": [
    "cleaned_df = check_run_dataframe(run_dataframe)\n",
    "cleaned_df"
   ]
  },
  {
   "cell_type": "code",
   "execution_count": 3,
   "metadata": {},
   "outputs": [
    {
     "data": {
      "text/plain": [
       "(200, 97, 97)"
      ]
     },
     "execution_count": 3,
     "metadata": {},
     "output_type": "execute_result"
    }
   ],
   "source": [
    "RUN_PATH = \"/mnt/ssd/SSD_floricslimani/Fish_seq/Davide/2024-10-09 - SeqFISH_Run10 - HeLa-Puro_POLR2\"\n",
    "voxel_size = get_parameter(cleaned_df, RUN_PATH, 'voxel_size')\n",
    "voxel_size"
   ]
  }
 ],
 "metadata": {
  "kernelspec": {
   "display_name": "dev",
   "language": "python",
   "name": "python3"
  },
  "language_info": {
   "codemirror_mode": {
    "name": "ipython",
    "version": 3
   },
   "file_extension": ".py",
   "mimetype": "text/x-python",
   "name": "python",
   "nbconvert_exporter": "python",
   "pygments_lexer": "ipython3",
   "version": "3.8.20"
  }
 },
 "nbformat": 4,
 "nbformat_minor": 2
}
