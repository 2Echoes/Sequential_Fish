{
 "cells": [
  {
   "cell_type": "code",
   "execution_count": 1,
   "metadata": {},
   "outputs": [],
   "source": [
    "import pandas as pd\n",
    "path = '/media/floricslimani/SSD4To/SSD_floricslimani/Fish_seq/Davide/2024-08-12 - SeqFISH - HeLa - Puro - R2TP1-2_Run7/'"
   ]
  },
  {
   "cell_type": "code",
   "execution_count": 4,
   "metadata": {},
   "outputs": [],
   "source": [
    "Acquisition = pd.read_feather(path+ \"/result_tables/Acquisition.feather\")\n",
    "Cell = pd.read_feather(path+ \"/result_tables/Cell.feather\")\n",
    "Spots = pd.read_feather(path+ \"/result_tables/Spots.feather\")\n",
    "Detection = pd.read_feather(path+ \"/result_tables/Detection.feather\")\n",
    "Drift = pd.read_feather(path+ \"/result_tables/Drift.feather\")\n",
    "Drift_pairwise = pd.read_feather(path+ \"/result_tables/Drift_pairwise.feather\")\n",
    "Clusters = pd.read_feather(path+ \"/result_tables/Clusters.feather\")\n",
    "Colocalisation = pd.read_feather(path+ \"/result_tables/Colocalisation.feather\")\n",
    "Gene_map = pd.read_feather(path+ \"/result_tables/Gene_map.feather\")"
   ]
  },
  {
   "cell_type": "code",
   "execution_count": 3,
   "metadata": {},
   "outputs": [
    {
     "name": "stdout",
     "output_type": "stream",
     "text": [
      "['img011_000_000000_0000000000.ome.tif', 'img001_000_000000_0000000000.ome.tif', 'img008_000_000000_0000000000.ome.tif', 'img000_000_000000_0000000000.ome.tif', 'img005_000_000000_0000000000.ome.tif', 'img013_000_000000_0000000000.ome.tif', 'img010_000_000000_0000000000.ome.tif', 'img012_000_000000_0000000000.ome.tif', 'img007_000_000000_0000000000.ome.tif', 'img009_000_000000_0000000000.ome.tif', 'img004_000_000000_0000000000.ome.tif', 'img002_000_000000_0000000000.ome.tif', 'img006_000_000000_0000000000.ome.tif', 'img003_000_000000_0000000000.ome.tif']\n"
     ]
    }
   ],
   "source": [
    "from pbwrap.utils import open_image\n",
    "from utils import open_image as test\n",
    "import os\n",
    "import time as t\n",
    "\n",
    "print(os.listdir(path + \"/FISH_Z-stacks/Location-01\"))"
   ]
  },
  {
   "cell_type": "code",
   "execution_count": 4,
   "metadata": {},
   "outputs": [
    {
     "name": "stdout",
     "output_type": "stream",
     "text": [
      "time to load :  0.005748748779296875\n",
      "(1, 1981, 2004)\n",
      "time to load :  0.4407005310058594\n",
      "(168, 1981, 2004)\n"
     ]
    }
   ],
   "source": [
    "time = t.time()\n",
    "image = test(path + \"/FISH_Z-stacks/Location-01/img001_000_000000_0000000000.ome.tif\")\n",
    "print(\"time to load : \",t.time() - time)\n",
    "print(image.shape)\n",
    "time = t.time()\n",
    "image = open_image(path + \"/FISH_Z-stacks/Location-01/img001_000_000000_0000000000.ome.tif\")\n",
    "print(\"time to load : \",t.time() - time)\n",
    "print(image.shape)\n"
   ]
  }
 ],
 "metadata": {
  "kernelspec": {
   "display_name": "cellpose",
   "language": "python",
   "name": "python3"
  },
  "language_info": {
   "codemirror_mode": {
    "name": "ipython",
    "version": 3
   },
   "file_extension": ".py",
   "mimetype": "text/x-python",
   "name": "python",
   "nbconvert_exporter": "python",
   "pygments_lexer": "ipython3",
   "version": "3.8.16"
  }
 },
 "nbformat": 4,
 "nbformat_minor": 2
}
